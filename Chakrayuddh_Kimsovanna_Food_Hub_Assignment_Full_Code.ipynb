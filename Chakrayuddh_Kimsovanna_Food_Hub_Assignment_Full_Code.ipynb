{
  "nbformat": 4,
  "nbformat_minor": 0,
  "metadata": {
    "colab": {
      "provenance": []
    },
    "kernelspec": {
      "name": "python3",
      "display_name": "Python 3"
    },
    "language_info": {
      "name": "python"
    }
  },
  "cells": [
    {
      "cell_type": "markdown",
      "source": [
        "## **Project 1: Food Hub Data Analysis Assignment**"
      ],
      "metadata": {
        "id": "DkUmrhfnr5ju"
      }
    },
    {
      "cell_type": "markdown",
      "metadata": {
        "id": "AdracY0HJY_O"
      },
      "source": [
        "### **Setting Up**\n",
        "\n",
        "\n"
      ]
    },
    {
      "cell_type": "code",
      "execution_count": null,
      "metadata": {
        "id": "Wik3i5I61VR9"
      },
      "outputs": [],
      "source": [
        "import numpy as np\n",
        "import pandas as pd\n",
        "\n",
        "import matplotlib.pyplot as plt\n",
        "import seaborn as sns"
      ]
    },
    {
      "cell_type": "code",
      "source": [
        "from google.colab import drive\n",
        "drive.mount('/content/drive')"
      ],
      "metadata": {
        "id": "_rQ4b67I2ng7",
        "colab": {
          "base_uri": "https://localhost:8080/"
        },
        "outputId": "dcf82084-6f1d-40d2-bb43-c82fb751d27d"
      },
      "execution_count": 3,
      "outputs": [
        {
          "output_type": "stream",
          "name": "stdout",
          "text": [
            "Drive already mounted at /content/drive; to attempt to forcibly remount, call drive.mount(\"/content/drive\", force_remount=True).\n"
          ]
        }
      ]
    },
    {
      "cell_type": "code",
      "source": [
        "data = pd.read_csv('/content/drive/MyDrive/Data Science & Business Analytics Program/Python Foundations/Project/foodhub_order.csv')"
      ],
      "metadata": {
        "id": "O-ZOUjIM3cq7"
      },
      "execution_count": 5,
      "outputs": []
    },
    {
      "cell_type": "markdown",
      "metadata": {
        "id": "ILd6MKzN3qkq"
      },
      "source": [
        "### **Question 1**"
      ]
    },
    {
      "cell_type": "code",
      "source": [
        "data.shape"
      ],
      "metadata": {
        "colab": {
          "base_uri": "https://localhost:8080/"
        },
        "id": "-L_xZ64l38Hn",
        "outputId": "1a54247e-2c8e-4d55-8828-638f2866b7b3"
      },
      "execution_count": 13,
      "outputs": [
        {
          "output_type": "execute_result",
          "data": {
            "text/plain": [
              "(1898, 9)"
            ]
          },
          "metadata": {},
          "execution_count": 13
        }
      ]
    },
    {
      "cell_type": "code",
      "source": [
        "print(\"\\033[1mObservation:\\033[0m There are\", data.shape[0], 'rows and', data.shape[1], \"columns present in this dataset.\")"
      ],
      "metadata": {
        "colab": {
          "base_uri": "https://localhost:8080/"
        },
        "id": "pwoQCkja4xBp",
        "outputId": "d6d1707d-c0b3-4db1-f3e6-6b8b633ddee9"
      },
      "execution_count": 79,
      "outputs": [
        {
          "output_type": "stream",
          "name": "stdout",
          "text": [
            "\u001b[1mObservation:\u001b[0m There are 1898 rows and 9 columns present in this dataset.\n"
          ]
        }
      ]
    },
    {
      "cell_type": "markdown",
      "metadata": {
        "id": "-StEo9ST5dPY"
      },
      "source": [
        "### **Question 2**"
      ]
    },
    {
      "cell_type": "code",
      "source": [
        "data.info()"
      ],
      "metadata": {
        "colab": {
          "base_uri": "https://localhost:8080/"
        },
        "id": "W49a8sc_5egS",
        "outputId": "a452cc83-ab1b-4250-caf5-7616ec223ea5"
      },
      "execution_count": 19,
      "outputs": [
        {
          "output_type": "stream",
          "name": "stdout",
          "text": [
            "<class 'pandas.core.frame.DataFrame'>\n",
            "RangeIndex: 1898 entries, 0 to 1897\n",
            "Data columns (total 9 columns):\n",
            " #   Column                 Non-Null Count  Dtype  \n",
            "---  ------                 --------------  -----  \n",
            " 0   order_id               1898 non-null   int64  \n",
            " 1   customer_id            1898 non-null   int64  \n",
            " 2   restaurant_name        1898 non-null   object \n",
            " 3   cuisine_type           1898 non-null   object \n",
            " 4   cost_of_the_order      1898 non-null   float64\n",
            " 5   day_of_the_week        1898 non-null   object \n",
            " 6   rating                 1898 non-null   object \n",
            " 7   food_preparation_time  1898 non-null   int64  \n",
            " 8   delivery_time          1898 non-null   int64  \n",
            "dtypes: float64(1), int64(4), object(4)\n",
            "memory usage: 133.6+ KB\n"
          ]
        }
      ]
    },
    {
      "cell_type": "markdown",
      "source": [
        "**Observation:** The datatypes of the different columns in the dataset include *int*, *float*, and *object*."
      ],
      "metadata": {
        "id": "sQ2gj4oMDUDN"
      }
    },
    {
      "cell_type": "markdown",
      "metadata": {
        "id": "1hKb-m46ENxw"
      },
      "source": [
        "### **Question 3**"
      ]
    },
    {
      "cell_type": "code",
      "source": [
        "data['order_id'].unique()"
      ],
      "metadata": {
        "colab": {
          "base_uri": "https://localhost:8080/"
        },
        "id": "ThnO4d6z8eM_",
        "outputId": "6ca7111e-9e1a-4993-a516-6d3ca100a46b"
      },
      "execution_count": 41,
      "outputs": [
        {
          "output_type": "execute_result",
          "data": {
            "text/plain": [
              "array([1477147, 1477685, 1477070, ..., 1477819, 1477513, 1478056])"
            ]
          },
          "metadata": {},
          "execution_count": 41
        }
      ]
    },
    {
      "cell_type": "code",
      "source": [
        "data['customer_id'].unique()"
      ],
      "metadata": {
        "colab": {
          "base_uri": "https://localhost:8080/"
        },
        "id": "Cp61Gqxf87Cb",
        "outputId": "77dcaebc-3ed2-402c-d7ec-5bd84595006a"
      },
      "execution_count": 43,
      "outputs": [
        {
          "output_type": "execute_result",
          "data": {
            "text/plain": [
              "array([337525, 358141,  66393, ...,  97838, 292602, 397537])"
            ]
          },
          "metadata": {},
          "execution_count": 43
        }
      ]
    },
    {
      "cell_type": "code",
      "source": [
        "data['restaurant_name'].unique()"
      ],
      "metadata": {
        "colab": {
          "base_uri": "https://localhost:8080/"
        },
        "id": "mWHm7VbP9O6G",
        "outputId": "09090ae9-f2bd-4479-d1bf-758c28219385"
      },
      "execution_count": 44,
      "outputs": [
        {
          "output_type": "execute_result",
          "data": {
            "text/plain": [
              "array(['Hangawi', 'Blue Ribbon Sushi Izakaya', 'Cafe Habana',\n",
              "       'Blue Ribbon Fried Chicken', 'Dirty Bird to Go',\n",
              "       'Tamarind TriBeCa', 'The Meatball Shop', 'Barbounia',\n",
              "       'Anjappar Chettinad', 'Bukhara Grill',\n",
              "       'Big Wong Restaurant \\x8c_¤¾Ñ¼', 'Empanada Mama (closed)', 'Pylos',\n",
              "       \"Lucky's Famous Burgers\", 'Shake Shack', 'Sushi of Gari',\n",
              "       'RedFarm Hudson', 'Blue Ribbon Sushi',\n",
              "       'Five Guys Burgers and Fries', 'Tortaria', 'Cafe Mogador',\n",
              "       'Otto Enoteca Pizzeria', 'Vezzo Thin Crust Pizza',\n",
              "       'Sushi of Gari 46', 'The Kati Roll Company', 'Klong',\n",
              "       '5 Napkin Burger', 'TAO', 'Parm', 'Sushi Samba',\n",
              "       'Haru Gramercy Park', 'Chipotle Mexican Grill $1.99 Delivery',\n",
              "       'RedFarm Broadway', 'Cafeteria', 'DuMont Burger',\n",
              "       \"Sarabeth's East\", 'Hill Country Fried Chicken', 'Bistango',\n",
              "       \"Jack's Wife Freda\", \"Mamoun's Falafel\", 'Prosperity Dumpling',\n",
              "       'Blue Ribbon Sushi Bar & Grill', 'Westville Hudson',\n",
              "       'Blue Ribbon Brooklyn', 'Nobu Next Door', 'Osteria Morini',\n",
              "       'Haandi', 'Benihana', 'Han Dynasty', 'Chote Nawab',\n",
              "       'Mission Cantina', \"Xi'an Famous Foods\", 'Rubirosa',\n",
              "       \"Joe's Shanghai \\x8e_À\\x8eü£¾÷´\", 'Bareburger', 'The Odeon',\n",
              "       'Pongsri Thai', 'Yama Japanese Restaurant', 'Momoya',\n",
              "       'Balthazar Boulangerie', 'CafÌ© China', 'Boqueria',\n",
              "       'Song Thai Restaurant & Bar', 'Five Leaves',\n",
              "       'Pinto Nouveau Thai Bistro', \"Amy Ruth's\", 'Pepe Giallo',\n",
              "       'indikitch', 'Yama 49', 'Piccolo Angolo', 'Pepe Rosso To Go',\n",
              "       \"L'Express\", 'Amma', 'Delicatessen', \"S'MAC\",\n",
              "       \"Vanessa's Dumplings\", 'Bhatti Indian Grill', 'Taro Sushi',\n",
              "       'Donburi-ya', 'Hatsuhana', 'Samurai Mama', 'Waverly Diner',\n",
              "       'Tarallucci e Vino Restaurant', \"P.J. Clarke's\",\n",
              "       'Lantern Thai Kitchen', 'ilili Restaurant', 'The Smile',\n",
              "       \"Vanessa's Dumpling House\", \"Bubby's \", 'Woorijip',\n",
              "       'Dirty Bird To Go (archived)', 'Haveli Indian Restaurant',\n",
              "       'Dos Caminos', 'da Umberto', 'Sushi of Gari Tribeca',\n",
              "       'Burger Joint', 'Room Service', \"Sarabeth's Restaurant\",\n",
              "       'Xe May Sandwich Shop', 'Hibino', 'Mira Sushi', 'Melt Shop',\n",
              "       'J. G. Melon', 'Hummus Place', 'Saravanaa Bhavan',\n",
              "       'Friend of a Farmer', 'The Loop', 'Balade', 'Posto',\n",
              "       'Terakawa Ramen', 'Kambi Ramen House', 'Wo Hop Restaurant',\n",
              "       'Spice Thai', \"Dickson's Farmstand Meats\",\n",
              "       'UVA Wine Bar & Restaurant', 'Serafina Fabulous Pizza',\n",
              "       'Gaia Italian Cafe', 'Chola Eclectic Indian Cuisine',\n",
              "       'Hot Kitchen', 'Junoon', 'Ravagh Persian Grill', 'Rohm Thai',\n",
              "       'Dig Inn Seasonal Market', 'Olea', 'Cho Dang Gol',\n",
              "       'El Parador Cafe', 'Socarrat Paella Bar',\n",
              "       \"Don's Bogam BBQ & Wine Bar\", 'Alidoro', \"Tony's Di Napoli\",\n",
              "       'Cipriani Le Specialita', 'Sushi Choshi', 'Kanoyama', 'V-Nam Cafe',\n",
              "       'Zero Otto Nove', 'Dos Caminos Soho', 'Go! Go! Curry!',\n",
              "       'La Follia', 'Izakaya Ten', '12 Chairs', 'Philippe Chow',\n",
              "       'The MasalaWala', 'brgr', \"Carmine's\", 'Asuka Sushi', 'Aurora',\n",
              "       \"Sarabeth's\", 'Crema Restaurante', \"Big Daddy's\",\n",
              "       'Moonstruck on Second', 'Cafe de La Esquina', 'Olive Garden',\n",
              "       '67 Burger', 'Tres Carnes', \"Schnipper's Quality Kitchen\",\n",
              "       'Nha Trang One', 'Market Table', 'Galli Restaurant',\n",
              "       'Hampton Chutney Co.', 'Byblos Restaurant',\n",
              "       'Grand Sichuan International', 'Le Grainne Cafe', 'Il Bambino',\n",
              "       'Kori Restaurant and Bar', 'DespaÌ±a', 'Lamarca Pasta',\n",
              "       'Lucky Strike', \"Paul & Jimmy's\", 'Hunan Manor', \"Coppola's East\",\n",
              "       'Emporio', 'Wa Jeal', 'Le Zie 2000 Trattoria', 'Rye House',\n",
              "       \"Hiroko's Place\", 'Frank Restaurant', \"Sarabeth's West\",\n",
              "       \"'wichcraft\"], dtype=object)"
            ]
          },
          "metadata": {},
          "execution_count": 44
        }
      ]
    },
    {
      "cell_type": "code",
      "source": [
        "data['cuisine_type'].unique()"
      ],
      "metadata": {
        "colab": {
          "base_uri": "https://localhost:8080/"
        },
        "id": "dOgXnURu9SHZ",
        "outputId": "94eca0b0-4007-46c7-e6ef-363fa839b4d0"
      },
      "execution_count": 45,
      "outputs": [
        {
          "output_type": "execute_result",
          "data": {
            "text/plain": [
              "array(['Korean', 'Japanese', 'Mexican', 'American', 'Indian', 'Italian',\n",
              "       'Mediterranean', 'Chinese', 'Middle Eastern', 'Thai', 'Southern',\n",
              "       'French', 'Spanish', 'Vietnamese'], dtype=object)"
            ]
          },
          "metadata": {},
          "execution_count": 45
        }
      ]
    },
    {
      "cell_type": "code",
      "source": [
        "data['cost_of_the_order'].unique()"
      ],
      "metadata": {
        "colab": {
          "base_uri": "https://localhost:8080/"
        },
        "id": "qPzTFHoa9gFW",
        "outputId": "5668825e-2af7-4545-fbeb-c4f7376361f9"
      },
      "execution_count": 46,
      "outputs": [
        {
          "output_type": "execute_result",
          "data": {
            "text/plain": [
              "array([30.75, 12.08, 12.23, 29.2 , 11.59, 25.22,  6.07,  5.97, 16.44,\n",
              "        7.18,  5.92,  8.1 , 24.3 , 11.3 , 12.13, 16.2 , 16.98, 33.03,\n",
              "       14.12, 24.2 , 15.91, 29.1 ,  8.92, 15.86, 21.88, 14.02,  9.17,\n",
              "       12.18, 31.33, 29.05,  8.39,  9.12, 15.47, 16.01, 29.83, 19.89,\n",
              "       19.35, 33.22, 24.25, 22.75,  6.74, 13.78, 16.93, 29.39, 20.23,\n",
              "       14.6 ,  6.79, 31.38,  8.34, 12.46, 14.55, 32.93,  8.  , 13.05,\n",
              "        5.67, 29.29, 16.15, 13.34,  9.75,  6.69,  4.75, 12.56, 21.2 ,\n",
              "       19.31, 16.3 , 25.27, 14.79,  5.72,  9.22, 16.39, 17.03, 21.83,\n",
              "       31.29, 11.83, 22.26, 20.47, 15.81, 22.36,  8.68, 12.9 , 29.15,\n",
              "        7.86, 16.1 , 12.95, 11.69, 12.32, 14.99, 10.38,  9.65,  5.77,\n",
              "        9.56, 29.34, 11.16, 14.07, 22.8 , 15.23, 16.49,  8.83, 16.25,\n",
              "       16.83, 10.24, 19.4 , 13.97, 13.  ,  8.49, 20.18, 19.59, 16.11,\n",
              "       12.27, 13.39,  9.02, 15.33, 31.43, 29.35, 15.28,  9.6 ,  8.88,\n",
              "       15.96,  8.05,  8.54,  7.23, 19.69,  9.27,  8.97, 11.64, 13.15,\n",
              "        9.41,  9.07, 14.46,  6.7 , 19.45, 12.22, 29.25, 16.05, 17.08,\n",
              "       32.98, 13.73, 14.31, 14.7 , 15.52,  6.11, 21.93, 15.76,  9.46,\n",
              "       12.61, 22.85, 16.06, 21.39,  8.25, 14.94, 14.26, 21.34, 14.16,\n",
              "        5.68, 15.57, 14.45,  8.15,  8.78,  8.59, 15.62,  5.87,  6.01,\n",
              "        9.85,  6.84,  5.82,  7.96,  9.7 ,  4.85,  6.06, 12.66,  6.02,\n",
              "        7.08, 12.37, 14.84, 22.31, 13.1 , 14.75, 24.35, 25.17,  9.26,\n",
              "        9.55, 13.92,  4.66, 13.87,  7.61, 15.72,  8.35, 14.21, 14.65,\n",
              "        4.71,  8.63, 13.68, 11.93, 35.41,  6.64, 10.72,  8.73, 16.78,\n",
              "        5.58, 13.63, 29.54, 29.49, 15.04, 18.24,  4.47,  8.98, 15.71,\n",
              "        8.93,  9.51,  9.61,  7.38, 13.19, 10.82,  6.26,  8.2 ,  7.33,\n",
              "       12.71,  5.63, 17.07,  5.48, 22.12, 15.77,  6.45, 11.79, 11.98,\n",
              "       20.32, 28.57, 22.07, 21.29, 14.41, 29.88,  4.8 , 10.14,  8.44,\n",
              "       16.54,  7.71, 29.78, 31.86, 19.98, 12.42, 12.52, 15.38,  8.3 ,\n",
              "       13.24,  8.01, 29.68,  9.32, 12.51,  5.34,  6.4 , 19.3 , 17.85,\n",
              "       16.88, 13.77,  5.73, 11.84, 15.67, 13.58, 33.18,  6.55, 20.52,\n",
              "       28.62, 15.18, 29.3 , 12.81, 29.44, 11.11, 14.5 , 22.02, 11.88,\n",
              "       33.32, 18.43, 12.47, 20.13, 20.57, 15.09, 19.74, 18.04, 31.67,\n",
              "        5.05,  7.03, 14.8 , 12.17,  7.28, 15.13,  7.81, 16.74,  9.31,\n",
              "       21.25, 31.87, 19.02, 34.19,  5.53, 22.46, 29.73, 10.43, 19.5 ,\n",
              "        4.9 , 15.37,  7.67,  7.91, 13.53, 33.37, 19.6 , 13.48, 20.71,\n",
              "       20.61,  7.66, 10.86,  7.95, 20.86, 29.59])"
            ]
          },
          "metadata": {},
          "execution_count": 46
        }
      ]
    },
    {
      "cell_type": "code",
      "source": [
        "data['day_of_the_week'].unique()"
      ],
      "metadata": {
        "colab": {
          "base_uri": "https://localhost:8080/"
        },
        "id": "Xtv8k_u49jaR",
        "outputId": "5e3274e0-d140-484f-9aff-abe3a26a15e0"
      },
      "execution_count": 47,
      "outputs": [
        {
          "output_type": "execute_result",
          "data": {
            "text/plain": [
              "array(['Weekend', 'Weekday'], dtype=object)"
            ]
          },
          "metadata": {},
          "execution_count": 47
        }
      ]
    },
    {
      "cell_type": "code",
      "source": [
        "data['rating'].unique()"
      ],
      "metadata": {
        "colab": {
          "base_uri": "https://localhost:8080/"
        },
        "id": "w8Y2o14F9mR9",
        "outputId": "ed5075ed-1a2c-47d0-cf1d-29419b5ccd39"
      },
      "execution_count": 48,
      "outputs": [
        {
          "output_type": "execute_result",
          "data": {
            "text/plain": [
              "array(['Not given', '5', '3', '4'], dtype=object)"
            ]
          },
          "metadata": {},
          "execution_count": 48
        }
      ]
    },
    {
      "cell_type": "code",
      "source": [
        "data['food_preparation_time'].unique()"
      ],
      "metadata": {
        "colab": {
          "base_uri": "https://localhost:8080/"
        },
        "id": "DMWuPpUS9oF0",
        "outputId": "859ee18c-db05-4d56-980d-d5ef62a4f2fd"
      },
      "execution_count": 49,
      "outputs": [
        {
          "output_type": "execute_result",
          "data": {
            "text/plain": [
              "array([25, 23, 20, 28, 33, 21, 29, 34, 24, 30, 35, 32, 31, 27, 22, 26])"
            ]
          },
          "metadata": {},
          "execution_count": 49
        }
      ]
    },
    {
      "cell_type": "code",
      "source": [
        "data['delivery_time'].unique()"
      ],
      "metadata": {
        "colab": {
          "base_uri": "https://localhost:8080/"
        },
        "id": "5JXg421e9xyO",
        "outputId": "caab130e-a571-49f7-f236-b9fa8173f845"
      },
      "execution_count": 50,
      "outputs": [
        {
          "output_type": "execute_result",
          "data": {
            "text/plain": [
              "array([20, 23, 28, 15, 24, 21, 30, 26, 22, 17, 25, 16, 29, 27, 18, 31, 32,\n",
              "       19, 33])"
            ]
          },
          "metadata": {},
          "execution_count": 50
        }
      ]
    },
    {
      "cell_type": "code",
      "source": [
        "data[data['rating']=='Not given'].shape[0]"
      ],
      "metadata": {
        "colab": {
          "base_uri": "https://localhost:8080/"
        },
        "id": "dKFWB57T9zzt",
        "outputId": "f7cd56f7-7a46-46e0-dc8e-91925bf3512e"
      },
      "execution_count": 56,
      "outputs": [
        {
          "output_type": "execute_result",
          "data": {
            "text/plain": [
              "736"
            ]
          },
          "metadata": {},
          "execution_count": 56
        }
      ]
    },
    {
      "cell_type": "markdown",
      "source": [
        "**Observation:** There is not any missing value in the data, as shown from the data summaries above. Additionally, the table given by the command 'data.info()' shows that every single column does not have any missing value as the number of non-null is 1898, which is exactly the number of rows there are in the dataset. However, one variable, 'rating', has 736 counts of 'not given' although this does not necessarily qualify as missing values."
      ],
      "metadata": {
        "id": "p2tGyB58DI2w"
      }
    },
    {
      "cell_type": "markdown",
      "metadata": {
        "id": "wvgmHCFJ8ck9"
      },
      "source": [
        "### **Question 4**"
      ]
    },
    {
      "cell_type": "code",
      "source": [
        "data['food_preparation_time'].describe()"
      ],
      "metadata": {
        "colab": {
          "base_uri": "https://localhost:8080/"
        },
        "id": "JMaxa_JgETyY",
        "outputId": "aba148de-de07-4953-d69c-039e39ab8a08"
      },
      "execution_count": 81,
      "outputs": [
        {
          "output_type": "execute_result",
          "data": {
            "text/plain": [
              "count    1898.000000\n",
              "mean       27.371970\n",
              "std         4.632481\n",
              "min        20.000000\n",
              "25%        23.000000\n",
              "50%        27.000000\n",
              "75%        31.000000\n",
              "max        35.000000\n",
              "Name: food_preparation_time, dtype: float64"
            ]
          },
          "metadata": {},
          "execution_count": 81
        }
      ]
    },
    {
      "cell_type": "markdown",
      "source": [
        "**Observation:** In terms of food preparation time once an order is placed, the minimum time is 20 minutes; the average time is around 27.37 minutes; and the maximum time is 35 minutes."
      ],
      "metadata": {
        "id": "o7Dt_vexEi0J"
      }
    },
    {
      "cell_type": "markdown",
      "metadata": {
        "id": "UH27ml9SF2IB"
      },
      "source": [
        "### **Question 5**"
      ]
    },
    {
      "cell_type": "code",
      "source": [
        "data[data['rating']=='Not given'].shape[0]"
      ],
      "metadata": {
        "colab": {
          "base_uri": "https://localhost:8080/"
        },
        "id": "s2mI0q6WF3-F",
        "outputId": "bb76fa21-39a4-4d63-ebad-dd7de6deac87"
      },
      "execution_count": 82,
      "outputs": [
        {
          "output_type": "execute_result",
          "data": {
            "text/plain": [
              "736"
            ]
          },
          "metadata": {},
          "execution_count": 82
        }
      ]
    },
    {
      "cell_type": "code",
      "source": [
        "data[data['rating']=='Not given'].value_counts"
      ],
      "metadata": {
        "colab": {
          "base_uri": "https://localhost:8080/"
        },
        "id": "L2djsRR2F-yh",
        "outputId": "b51d1398-6e1e-4f16-c294-a6372345975f"
      },
      "execution_count": 84,
      "outputs": [
        {
          "output_type": "execute_result",
          "data": {
            "text/plain": [
              "<bound method DataFrame.value_counts of       order_id  customer_id             restaurant_name cuisine_type  \\\n",
              "0      1477147       337525                     Hangawi       Korean   \n",
              "1      1477685       358141   Blue Ribbon Sushi Izakaya     Japanese   \n",
              "6      1477894       157711           The Meatball Shop      Italian   \n",
              "10     1477895       143926  Big Wong Restaurant _¤¾Ñ¼      Chinese   \n",
              "14     1478198        62667      Lucky's Famous Burgers     American   \n",
              "...        ...          ...                         ...          ...   \n",
              "1887   1476873       237616                 Shake Shack     American   \n",
              "1891   1476981       138586                 Shake Shack     American   \n",
              "1892   1477473        97838                 Han Dynasty      Chinese   \n",
              "1895   1477819        35309           Blue Ribbon Sushi     Japanese   \n",
              "1897   1478056       120353           Blue Ribbon Sushi     Japanese   \n",
              "\n",
              "      cost_of_the_order day_of_the_week     rating  food_preparation_time  \\\n",
              "0                 30.75         Weekend  Not given                     25   \n",
              "1                 12.08         Weekend  Not given                     25   \n",
              "6                  6.07         Weekend  Not given                     28   \n",
              "10                 5.92         Weekday  Not given                     34   \n",
              "14                12.13         Weekday  Not given                     23   \n",
              "...                 ...             ...        ...                    ...   \n",
              "1887               5.82         Weekend  Not given                     26   \n",
              "1891               5.82         Weekend  Not given                     22   \n",
              "1892              29.15         Weekend  Not given                     29   \n",
              "1895              25.22         Weekday  Not given                     31   \n",
              "1897              19.45         Weekend  Not given                     28   \n",
              "\n",
              "      delivery_time  \n",
              "0                20  \n",
              "1                23  \n",
              "6                21  \n",
              "10               28  \n",
              "14               30  \n",
              "...             ...  \n",
              "1887             30  \n",
              "1891             28  \n",
              "1892             21  \n",
              "1895             24  \n",
              "1897             24  \n",
              "\n",
              "[736 rows x 9 columns]>"
            ]
          },
          "metadata": {},
          "execution_count": 84
        }
      ]
    },
    {
      "cell_type": "markdown",
      "source": [
        "**Observation:** Based on the statistics above, there are 736 out of the total 1898 orders that are not rated."
      ],
      "metadata": {
        "id": "sUqqmMQYGo1t"
      }
    },
    {
      "cell_type": "markdown",
      "metadata": {
        "id": "z0EueKwvHAIs"
      },
      "source": [
        "### **Question 6**"
      ]
    },
    {
      "cell_type": "markdown",
      "metadata": {
        "id": "TXEjEAXqbZmQ"
      },
      "source": [
        "#### **Statistics on Order ID**"
      ]
    },
    {
      "cell_type": "code",
      "source": [
        "data['order_id'].nunique()"
      ],
      "metadata": {
        "colab": {
          "base_uri": "https://localhost:8080/"
        },
        "id": "Ot6_O_OgJG5O",
        "outputId": "d9ade67b-bcf3-4820-9cf0-0a5bf949a69d"
      },
      "execution_count": 116,
      "outputs": [
        {
          "output_type": "execute_result",
          "data": {
            "text/plain": [
              "1898"
            ]
          },
          "metadata": {},
          "execution_count": 116
        }
      ]
    },
    {
      "cell_type": "markdown",
      "source": [
        "**Observation:** There are a total of 1898 unique order IDs."
      ],
      "metadata": {
        "id": "JSjotBz2M4ds"
      }
    },
    {
      "cell_type": "markdown",
      "source": [
        "#### **Statistics on Customer ID**"
      ],
      "metadata": {
        "id": "zx9u4sthKpe7"
      }
    },
    {
      "cell_type": "code",
      "source": [
        "data['customer_id'].nunique()\n"
      ],
      "metadata": {
        "colab": {
          "base_uri": "https://localhost:8080/"
        },
        "id": "lQcAmFtRJQXe",
        "outputId": "eaebf094-5cae-40f6-effb-5fe6e02747c0"
      },
      "execution_count": 117,
      "outputs": [
        {
          "output_type": "execute_result",
          "data": {
            "text/plain": [
              "1200"
            ]
          },
          "metadata": {},
          "execution_count": 117
        }
      ]
    },
    {
      "cell_type": "markdown",
      "source": [
        "**Observation:** There are 1200 unique customer IDs, meaning that there are occurrences of different orders being made by the same customer."
      ],
      "metadata": {
        "id": "wL4-V0R6NUYe"
      }
    },
    {
      "cell_type": "markdown",
      "source": [
        "#### **Statistics on Restaurant Name**"
      ],
      "metadata": {
        "id": "i6NwidWyKuer"
      }
    },
    {
      "cell_type": "code",
      "source": [
        "data['restaurant_name'].nunique()"
      ],
      "metadata": {
        "colab": {
          "base_uri": "https://localhost:8080/"
        },
        "id": "dA70xJYmKMTV",
        "outputId": "ee084f33-0557-4153-e623-0847e7b8ef76"
      },
      "execution_count": 118,
      "outputs": [
        {
          "output_type": "execute_result",
          "data": {
            "text/plain": [
              "178"
            ]
          },
          "metadata": {},
          "execution_count": 118
        }
      ]
    },
    {
      "cell_type": "code",
      "source": [
        "pd.set_option(\"display.max_rows\", None)\n",
        "data['restaurant_name'].value_counts()"
      ],
      "metadata": {
        "colab": {
          "base_uri": "https://localhost:8080/"
        },
        "id": "T3isVs4RJWxW",
        "outputId": "589aff6c-67c3-40bd-d184-32914f994d3f"
      },
      "execution_count": 115,
      "outputs": [
        {
          "output_type": "execute_result",
          "data": {
            "text/plain": [
              "Shake Shack                              219\n",
              "The Meatball Shop                        132\n",
              "Blue Ribbon Sushi                        119\n",
              "Blue Ribbon Fried Chicken                 96\n",
              "Parm                                      68\n",
              "RedFarm Broadway                          59\n",
              "RedFarm Hudson                            55\n",
              "TAO                                       49\n",
              "Han Dynasty                               46\n",
              "Blue Ribbon Sushi Bar & Grill             44\n",
              "Nobu Next Door                            42\n",
              "Rubirosa                                  37\n",
              "Sushi of Gari 46                          37\n",
              "Momoya                                    30\n",
              "Five Guys Burgers and Fries               29\n",
              "Blue Ribbon Sushi Izakaya                 29\n",
              "Bareburger                                27\n",
              "Tamarind TriBeCa                          27\n",
              "Jack's Wife Freda                         25\n",
              "Sushi of Gari Tribeca                     24\n",
              "Chipotle Mexican Grill $1.99 Delivery     23\n",
              "The Smile                                 18\n",
              "ilili Restaurant                          18\n",
              "Cafe Mogador                              18\n",
              "Yama Japanese Restaurant                  18\n",
              "The Kati Roll Company                     16\n",
              "Sushi of Gari                             16\n",
              "Cafe Habana                               16\n",
              "P.J. Clarke's                             15\n",
              "J. G. Melon                               15\n",
              "Westville Hudson                          15\n",
              "Osteria Morini                            14\n",
              "Hill Country Fried Chicken                14\n",
              "Empanada Mama (closed)                    13\n",
              "Vanessa's Dumplings                       13\n",
              "Burger Joint                              12\n",
              "S'MAC                                     12\n",
              "Otto Enoteca Pizzeria                     12\n",
              "Melt Shop                                 11\n",
              "Sushi Samba                               11\n",
              "Balthazar Boulangerie                     10\n",
              "Boqueria                                   9\n",
              "Vanessa's Dumpling House                   9\n",
              "Cafeteria                                  9\n",
              "Xi'an Famous Foods                         9\n",
              "Dos Caminos                                8\n",
              "Waverly Diner                              7\n",
              "Sarabeth's Restaurant                      7\n",
              "Sarabeth's East                            7\n",
              "Pepe Rosso To Go                           7\n",
              "Mamoun's Falafel                           7\n",
              "Donburi-ya                                 7\n",
              "Cho Dang Gol                               6\n",
              "CafÌ© China                                6\n",
              "Hatsuhana                                  6\n",
              "L'Express                                  6\n",
              "Barbounia                                  6\n",
              "Lucky's Famous Burgers                     6\n",
              "Saravanaa Bhavan                           5\n",
              "Mission Cantina                            5\n",
              "5 Napkin Burger                            5\n",
              "Tony's Di Napoli                           5\n",
              "Benihana                                   5\n",
              "Junoon                                     5\n",
              "Pylos                                      5\n",
              "Yama 49                                    5\n",
              "Delicatessen                               5\n",
              "Serafina Fabulous Pizza                    5\n",
              "Vezzo Thin Crust Pizza                     5\n",
              "Amma                                       4\n",
              "Lantern Thai Kitchen                       4\n",
              "V-Nam Cafe                                 4\n",
              "Tortaria                                   4\n",
              "Joe's Shanghai _Àü£¾÷´                   4\n",
              "indikitch                                  4\n",
              "Blue Ribbon Brooklyn                       4\n",
              "12 Chairs                                  4\n",
              "The Loop                                   4\n",
              "Five Leaves                                4\n",
              "Dirty Bird to Go                           4\n",
              "Pinto Nouveau Thai Bistro                  4\n",
              "Grand Sichuan International                4\n",
              "Friend of a Farmer                         3\n",
              "Room Service                               3\n",
              "Hummus Place                               3\n",
              "Ravagh Persian Grill                       3\n",
              "Sarabeth's                                 3\n",
              "Terakawa Ramen                             3\n",
              "da Umberto                                 3\n",
              "Olea                                       3\n",
              "Dickson's Farmstand Meats                  3\n",
              "Dirty Bird To Go (archived)                3\n",
              "Schnipper's Quality Kitchen                3\n",
              "Prosperity Dumpling                        3\n",
              "DuMont Burger                              3\n",
              "Izakaya Ten                                3\n",
              "Carmine's                                  3\n",
              "The Odeon                                  3\n",
              "Tres Carnes                                3\n",
              "Amy Ruth's                                 3\n",
              "Go! Go! Curry!                             3\n",
              "Kanoyama                                   3\n",
              "Don's Bogam BBQ & Wine Bar                 3\n",
              "Asuka Sushi                                3\n",
              "Bubby's                                    3\n",
              "Byblos Restaurant                          2\n",
              "Aurora                                     2\n",
              "UVA Wine Bar & Restaurant                  2\n",
              "Zero Otto Nove                             2\n",
              "El Parador Cafe                            2\n",
              "brgr                                       2\n",
              "Hot Kitchen                                2\n",
              "Le Grainne Cafe                            2\n",
              "Olive Garden                               2\n",
              "Hangawi                                    2\n",
              "Bhatti Indian Grill                        2\n",
              "Haveli Indian Restaurant                   2\n",
              "Bukhara Grill                              2\n",
              "Bistango                                   2\n",
              "Haandi                                     2\n",
              "Pongsri Thai                               2\n",
              "Song Thai Restaurant & Bar                 2\n",
              "Piccolo Angolo                             2\n",
              "Tarallucci e Vino Restaurant               2\n",
              "Big Daddy's                                2\n",
              "Xe May Sandwich Shop                       2\n",
              "DespaÌ±a                                   2\n",
              "Mira Sushi                                 2\n",
              "Le Zie 2000 Trattoria                      1\n",
              "Cafe de La Esquina                         1\n",
              "Sarabeth's West                            1\n",
              "Frank Restaurant                           1\n",
              "Hiroko's Place                             1\n",
              "Rye House                                  1\n",
              "Lamarca Pasta                              1\n",
              "67 Burger                                  1\n",
              "Lucky Strike                               1\n",
              "Paul & Jimmy's                             1\n",
              "Hampton Chutney Co.                        1\n",
              "Wa Jeal                                    1\n",
              "Hunan Manor                                1\n",
              "Moonstruck on Second                       1\n",
              "Il Bambino                                 1\n",
              "Nha Trang One                              1\n",
              "Market Table                               1\n",
              "Emporio                                    1\n",
              "Galli Restaurant                           1\n",
              "Coppola's East                             1\n",
              "Kori Restaurant and Bar                    1\n",
              "Woorijip                                   1\n",
              "Crema Restaurante                          1\n",
              "The MasalaWala                             1\n",
              "Anjappar Chettinad                         1\n",
              "Big Wong Restaurant _¤¾Ñ¼                 1\n",
              "Klong                                      1\n",
              "Haru Gramercy Park                         1\n",
              "Chote Nawab                                1\n",
              "Pepe Giallo                                1\n",
              "Taro Sushi                                 1\n",
              "Samurai Mama                               1\n",
              "Hibino                                     1\n",
              "Balade                                     1\n",
              "Posto                                      1\n",
              "Kambi Ramen House                          1\n",
              "Wo Hop Restaurant                          1\n",
              "Spice Thai                                 1\n",
              "Gaia Italian Cafe                          1\n",
              "Chola Eclectic Indian Cuisine              1\n",
              "Rohm Thai                                  1\n",
              "Dig Inn Seasonal Market                    1\n",
              "Socarrat Paella Bar                        1\n",
              "Alidoro                                    1\n",
              "Cipriani Le Specialita                     1\n",
              "Sushi Choshi                               1\n",
              "Dos Caminos Soho                           1\n",
              "La Follia                                  1\n",
              "Philippe Chow                              1\n",
              "'wichcraft                                 1\n",
              "Name: restaurant_name, dtype: int64"
            ]
          },
          "metadata": {},
          "execution_count": 115
        }
      ]
    },
    {
      "cell_type": "markdown",
      "source": [
        "**Observation:** There are 178 unique restaurants. Additionally, the majority of orders based on this dataset comes from Shake Shack, which includes 219 orders. The next three most popular restaurant brands are The Meatball Shop, Blue Ribbon Sushi and Blue Ribbon Fried Chicken, with 132, 119 and 96 orders respectively."
      ],
      "metadata": {
        "id": "p808IofYL3cj"
      }
    },
    {
      "cell_type": "markdown",
      "source": [
        "#### **Statistics on Cuisine Type**"
      ],
      "metadata": {
        "id": "-4E2jIMnKzVO"
      }
    },
    {
      "cell_type": "code",
      "source": [
        "data['cuisine_type'].nunique()"
      ],
      "metadata": {
        "colab": {
          "base_uri": "https://localhost:8080/"
        },
        "id": "exVae6SfKHUI",
        "outputId": "1820c3fe-b295-4b24-9ec6-16905320e307"
      },
      "execution_count": 119,
      "outputs": [
        {
          "output_type": "execute_result",
          "data": {
            "text/plain": [
              "14"
            ]
          },
          "metadata": {},
          "execution_count": 119
        }
      ]
    },
    {
      "cell_type": "code",
      "source": [
        "pd.set_option(\"display.max_rows\", None)\n",
        "data['cuisine_type'].value_counts()"
      ],
      "metadata": {
        "colab": {
          "base_uri": "https://localhost:8080/"
        },
        "id": "ZhR31H1SKSke",
        "outputId": "db6fe50e-e508-4389-e442-6da8ffd6622d"
      },
      "execution_count": 109,
      "outputs": [
        {
          "output_type": "execute_result",
          "data": {
            "text/plain": [
              "American          584\n",
              "Japanese          470\n",
              "Italian           298\n",
              "Chinese           215\n",
              "Mexican            77\n",
              "Indian             73\n",
              "Middle Eastern     49\n",
              "Mediterranean      46\n",
              "Thai               19\n",
              "French             18\n",
              "Southern           17\n",
              "Korean             13\n",
              "Spanish            12\n",
              "Vietnamese          7\n",
              "Name: cuisine_type, dtype: int64"
            ]
          },
          "metadata": {},
          "execution_count": 109
        }
      ]
    },
    {
      "cell_type": "code",
      "source": [
        "plt.figure(figsize=(16,5))\n",
        "plt.title(\"Number of Orders Based on Cuisine Types\")\n",
        "sns.countplot(data,x='cuisine_type')\n",
        "plt.show;"
      ],
      "metadata": {
        "colab": {
          "base_uri": "https://localhost:8080/",
          "height": 487
        },
        "id": "9lhYHx3zHBpS",
        "outputId": "32cb1724-3411-42f3-ea2d-088f2f7ae674"
      },
      "execution_count": 178,
      "outputs": [
        {
          "output_type": "display_data",
          "data": {
            "text/plain": [
              "<Figure size 1600x500 with 1 Axes>"
            ],
            "image/png": "[encoded data removed]"
          },
          "metadata": {}
        }
      ]
    },
    {
      "cell_type": "markdown",
      "source": [
        "**Observation:** There are 14 different types of cuisines listed in the dataset. Most of which are American, followed by Japanese, Italian and Chinese, with 584, 470, 298 and 215 orders respectively. The least popular cuisine type is Vietnamese with only 7 orders."
      ],
      "metadata": {
        "id": "DUPWai6PPiGE"
      }
    },
    {
      "cell_type": "markdown",
      "source": [
        "#### **Statistics on Cost of the Order**"
      ],
      "metadata": {
        "id": "O48swtSWK3U0"
      }
    },
    {
      "cell_type": "code",
      "source": [
        "data['cost_of_the_order'].describe()"
      ],
      "metadata": {
        "colab": {
          "base_uri": "https://localhost:8080/"
        },
        "id": "VHSX4CHGLNwl",
        "outputId": "875addcb-4110-4fd9-e938-8669c5b90a83"
      },
      "execution_count": 120,
      "outputs": [
        {
          "output_type": "execute_result",
          "data": {
            "text/plain": [
              "count    1898.000000\n",
              "mean       16.498851\n",
              "std         7.483812\n",
              "min         4.470000\n",
              "25%        12.080000\n",
              "50%        14.140000\n",
              "75%        22.297500\n",
              "max        35.410000\n",
              "Name: cost_of_the_order, dtype: float64"
            ]
          },
          "metadata": {},
          "execution_count": 120
        }
      ]
    },
    {
      "cell_type": "code",
      "source": [
        "plt.figure(figsize=(11,5))\n",
        "plt.title(\"Number of Orders Based on Cost (in dollars)\")\n",
        "sns.histplot(data,x='cost_of_the_order')\n",
        "plt.show;"
      ],
      "metadata": {
        "colab": {
          "base_uri": "https://localhost:8080/",
          "height": 487
        },
        "id": "lCoOGK0cQla0",
        "outputId": "f60b79dd-0a71-499a-a818-2d972a65db6d"
      },
      "execution_count": 176,
      "outputs": [
        {
          "output_type": "display_data",
          "data": {
            "text/plain": [
              "<Figure size 1100x500 with 1 Axes>"
            ],
            "image/png": "[encoded data removed]"
          },
          "metadata": {}
        }
      ]
    },
    {
      "cell_type": "code",
      "source": [
        "plt.figure(figsize=(11,3))\n",
        "plt.title(\"Percentage of Orders Based on Cost (in dollars)\")\n",
        "sns.boxplot(data,x='cost_of_the_order')\n",
        "plt.show;"
      ],
      "metadata": {
        "colab": {
          "base_uri": "https://localhost:8080/",
          "height": 333
        },
        "id": "5GOo4m32RM8P",
        "outputId": "9fbb4ac7-f2ba-47e9-8cb5-49ee3835cf02"
      },
      "execution_count": 180,
      "outputs": [
        {
          "output_type": "display_data",
          "data": {
            "text/plain": [
              "<Figure size 1100x300 with 1 Axes>"
            ],
            "image/png": "[encoded data removed]"
          },
          "metadata": {}
        }
      ]
    },
    {
      "cell_type": "markdown",
      "source": [
        "**Observation:** Based on the statistics and graphs above, one can see that the average cost is around 16.50 dollars; the lowest cost is 4.47 dollars and the highest cost is 35.41 dollars. The median cost is 14.14 dollars. Additionally, 25% of orders (1st quartile) have the cost of 12.08 dollars or less and 75% of orders (3rd quartile) have the cost of around 22.30 dollars or less."
      ],
      "metadata": {
        "id": "OIMd9mXiRhFS"
      }
    },
    {
      "cell_type": "markdown",
      "source": [
        "#### **Statistics on Day of the Week**"
      ],
      "metadata": {
        "id": "Wbv_oqjcK8eW"
      }
    },
    {
      "cell_type": "code",
      "source": [
        "data['day_of_the_week'].nunique()"
      ],
      "metadata": {
        "colab": {
          "base_uri": "https://localhost:8080/"
        },
        "id": "-_B_HGjQLOVI",
        "outputId": "5c5f16c5-f0e9-4736-c10b-213e913ad473"
      },
      "execution_count": 136,
      "outputs": [
        {
          "output_type": "execute_result",
          "data": {
            "text/plain": [
              "2"
            ]
          },
          "metadata": {},
          "execution_count": 136
        }
      ]
    },
    {
      "cell_type": "code",
      "source": [
        "data['day_of_the_week'].value_counts()"
      ],
      "metadata": {
        "colab": {
          "base_uri": "https://localhost:8080/"
        },
        "id": "WBjJZN8TVBxu",
        "outputId": "725bcb1c-bbbf-4040-8ae6-e051f823890b"
      },
      "execution_count": 157,
      "outputs": [
        {
          "output_type": "execute_result",
          "data": {
            "text/plain": [
              "Weekend    1351\n",
              "Weekday     547\n",
              "Name: day_of_the_week, dtype: int64"
            ]
          },
          "metadata": {},
          "execution_count": 157
        }
      ]
    },
    {
      "cell_type": "code",
      "source": [
        "plt.figure(figsize=(6,6))\n",
        "plt.title(\"Number of Orders Based on Day of the Week\")\n",
        "sns.countplot(data,x='day_of_the_week')\n",
        "plt.show;"
      ],
      "metadata": {
        "colab": {
          "base_uri": "https://localhost:8080/",
          "height": 564
        },
        "id": "QppY3RvKTxAC",
        "outputId": "dc3877c6-2abe-4ab4-cf76-bd8c7e731303"
      },
      "execution_count": 179,
      "outputs": [
        {
          "output_type": "display_data",
          "data": {
            "text/plain": [
              "<Figure size 600x600 with 1 Axes>"
            ],
            "image/png": "[encoded data removed]"
          },
          "metadata": {}
        }
      ]
    },
    {
      "cell_type": "markdown",
      "source": [
        "**Observation:** The dataset only has weekends and weekdays, rather than the individual days themselves. There are 1351 orders on the weekend, whereas there are only 547 orders on the weekdays. This shows that despite the weekends having only two days, most people would rather order food, while on the weekdays, it can be assumed that people tend to cook food for themselves."
      ],
      "metadata": {
        "id": "L_CStPFCU3gb"
      }
    },
    {
      "cell_type": "markdown",
      "source": [
        "#### **Statistics on Rating**"
      ],
      "metadata": {
        "id": "-mYPzU4vK_qQ"
      }
    },
    {
      "cell_type": "code",
      "source": [
        "data['rating'].unique()\n"
      ],
      "metadata": {
        "colab": {
          "base_uri": "https://localhost:8080/"
        },
        "id": "VhMYF1ZCV-Gv",
        "outputId": "9a7ab49a-b5f7-4f78-a70e-1cd1fed3b871"
      },
      "execution_count": 155,
      "outputs": [
        {
          "output_type": "execute_result",
          "data": {
            "text/plain": [
              "array(['Not given', '5', '3', '4'], dtype=object)"
            ]
          },
          "metadata": {},
          "execution_count": 155
        }
      ]
    },
    {
      "cell_type": "code",
      "source": [
        "data['rating'].nunique()"
      ],
      "metadata": {
        "colab": {
          "base_uri": "https://localhost:8080/"
        },
        "id": "6QqsbMy2LO3p",
        "outputId": "a0ac20a6-1254-4fde-8b61-f58c93797fcc"
      },
      "execution_count": 151,
      "outputs": [
        {
          "output_type": "execute_result",
          "data": {
            "text/plain": [
              "4"
            ]
          },
          "metadata": {},
          "execution_count": 151
        }
      ]
    },
    {
      "cell_type": "code",
      "source": [
        "pd.set_option(\"display.max_rows\", None)\n",
        "data['rating'].value_counts()"
      ],
      "metadata": {
        "colab": {
          "base_uri": "https://localhost:8080/"
        },
        "id": "6gvS0E8fWSjO",
        "outputId": "afd9ced9-f7df-4804-dab8-70a7e743b93c"
      },
      "execution_count": 158,
      "outputs": [
        {
          "output_type": "execute_result",
          "data": {
            "text/plain": [
              "Not given    736\n",
              "5            588\n",
              "4            386\n",
              "3            188\n",
              "Name: rating, dtype: int64"
            ]
          },
          "metadata": {},
          "execution_count": 158
        }
      ]
    },
    {
      "cell_type": "code",
      "source": [
        "plt.figure(figsize=(10,5))\n",
        "plt.title(\"Number of Orders Based on Rating\")\n",
        "sns.countplot(data,x='rating')\n",
        "plt.show;"
      ],
      "metadata": {
        "colab": {
          "base_uri": "https://localhost:8080/",
          "height": 487
        },
        "id": "5AcjdVKMWZRe",
        "outputId": "65893caf-58b9-46ad-b6df-8cb63c359a1e"
      },
      "execution_count": 182,
      "outputs": [
        {
          "output_type": "display_data",
          "data": {
            "text/plain": [
              "<Figure size 1000x500 with 1 Axes>"
            ],
            "image/png": "[encoded data removed]"
          },
          "metadata": {}
        }
      ]
    },
    {
      "cell_type": "markdown",
      "source": [
        "**Observation:** In terms of rating, there are only 4 different types: 'not given', '5', '4' and '3'; there is no '2' or '1'. The rating that has the most orders is 'not given', with 736 orders, while the rating with the least amount of orders is '3', with only 188 orders."
      ],
      "metadata": {
        "id": "QH9OV-SVW4Jd"
      }
    },
    {
      "cell_type": "markdown",
      "source": [
        "#### **Statistics on Food Preparation Time**"
      ],
      "metadata": {
        "id": "rpE6I8wiLD_l"
      }
    },
    {
      "cell_type": "code",
      "source": [
        "data['food_preparation_time'].describe()"
      ],
      "metadata": {
        "colab": {
          "base_uri": "https://localhost:8080/"
        },
        "id": "VkSgvedLYA0c",
        "outputId": "870fdf1c-9773-4f53-baf5-d0135c27cf4d"
      },
      "execution_count": 168,
      "outputs": [
        {
          "output_type": "execute_result",
          "data": {
            "text/plain": [
              "count    1898.000000\n",
              "mean       27.371970\n",
              "std         4.632481\n",
              "min        20.000000\n",
              "25%        23.000000\n",
              "50%        27.000000\n",
              "75%        31.000000\n",
              "max        35.000000\n",
              "Name: food_preparation_time, dtype: float64"
            ]
          },
          "metadata": {},
          "execution_count": 168
        }
      ]
    },
    {
      "cell_type": "code",
      "source": [
        "pd.set_option(\"display.max_rows\", None)\n",
        "data['food_preparation_time'].value_counts()"
      ],
      "metadata": {
        "colab": {
          "base_uri": "https://localhost:8080/"
        },
        "id": "GtRRJV2nYIP5",
        "outputId": "0fd951f6-0de6-4385-d5c7-e31db4aa59f3"
      },
      "execution_count": 226,
      "outputs": [
        {
          "output_type": "execute_result",
          "data": {
            "text/plain": [
              "21    135\n",
              "23    123\n",
              "27    123\n",
              "22    123\n",
              "28    121\n",
              "24    121\n",
              "20    119\n",
              "30    119\n",
              "33    118\n",
              "35    117\n",
              "31    116\n",
              "26    115\n",
              "25    113\n",
              "34    113\n",
              "32    113\n",
              "29    109\n",
              "Name: food_preparation_time, dtype: int64"
            ]
          },
          "metadata": {},
          "execution_count": 226
        }
      ]
    },
    {
      "cell_type": "code",
      "source": [
        "plt.figure(figsize=(11,3))\n",
        "plt.title(\"Percentage of Orders Based on Food Preparation Time (in minutes)\")\n",
        "sns.boxplot(data,x='food_preparation_time')\n",
        "plt.show;"
      ],
      "metadata": {
        "colab": {
          "base_uri": "https://localhost:8080/",
          "height": 333
        },
        "id": "xiOyf7oLXzgA",
        "outputId": "c7aa0053-5271-4401-e865-7862716db569"
      },
      "execution_count": 183,
      "outputs": [
        {
          "output_type": "display_data",
          "data": {
            "text/plain": [
              "<Figure size 1100x300 with 1 Axes>"
            ],
            "image/png": "[encoded data removed]"
          },
          "metadata": {}
        }
      ]
    },
    {
      "cell_type": "code",
      "source": [
        "plt.figure(figsize=(11,4))\n",
        "plt.title(\"Number of Orders Based on Food Preparation Time (in minutes)\")\n",
        "sns.histplot(data,x='food_preparation_time')\n",
        "plt.show;"
      ],
      "metadata": {
        "colab": {
          "base_uri": "https://localhost:8080/",
          "height": 410
        },
        "id": "Tjhr8Q9ELQK_",
        "outputId": "f211ade8-0b76-41e4-f798-0c9b74e6c08e"
      },
      "execution_count": 184,
      "outputs": [
        {
          "output_type": "display_data",
          "data": {
            "text/plain": [
              "<Figure size 1100x400 with 1 Axes>"
            ],
            "image/png": "[encoded data removed]"
          },
          "metadata": {}
        }
      ]
    },
    {
      "cell_type": "markdown",
      "source": [
        "**Observation:** As mentioned earlier, the mean food preparation time is 27.37 minutes, while the minimum and maximum are 20 and 35 minutes respectively. Most of the orders are done within 21 minutes with 135 orders, and the food preparation time with the least amount of orders is 29 minutes with 109 orders. About 25% of all food orders are prepared within 23 minutes and 75% of orders are prepared within 31 minutes."
      ],
      "metadata": {
        "id": "0JRD9iroYrxT"
      }
    },
    {
      "cell_type": "markdown",
      "source": [
        "#### **Statistics on Delivery Time**"
      ],
      "metadata": {
        "id": "I-w8ZMtXLIPJ"
      }
    },
    {
      "cell_type": "code",
      "source": [
        "data['delivery_time'].describe()"
      ],
      "metadata": {
        "colab": {
          "base_uri": "https://localhost:8080/"
        },
        "id": "E-JhBcayI9HO",
        "outputId": "4cb362b0-a86b-44a6-c09d-8676226bdf29"
      },
      "execution_count": 185,
      "outputs": [
        {
          "output_type": "execute_result",
          "data": {
            "text/plain": [
              "count    1898.000000\n",
              "mean       24.161749\n",
              "std         4.972637\n",
              "min        15.000000\n",
              "25%        20.000000\n",
              "50%        25.000000\n",
              "75%        28.000000\n",
              "max        33.000000\n",
              "Name: delivery_time, dtype: float64"
            ]
          },
          "metadata": {},
          "execution_count": 185
        }
      ]
    },
    {
      "cell_type": "code",
      "source": [
        "pd.set_option(\"display.max_rows\", None)\n",
        "data['delivery_time'].value_counts()"
      ],
      "metadata": {
        "colab": {
          "base_uri": "https://localhost:8080/"
        },
        "id": "knEwLhPBaJOo",
        "outputId": "5f72f185-b6eb-4a05-ddeb-ee2a987ef5ed"
      },
      "execution_count": 186,
      "outputs": [
        {
          "output_type": "execute_result",
          "data": {
            "text/plain": [
              "24    162\n",
              "28    148\n",
              "29    148\n",
              "26    141\n",
              "27    138\n",
              "30    133\n",
              "25    120\n",
              "19     90\n",
              "16     90\n",
              "20     88\n",
              "15     87\n",
              "22     85\n",
              "18     83\n",
              "21     81\n",
              "17     78\n",
              "23     77\n",
              "32     59\n",
              "33     49\n",
              "31     41\n",
              "Name: delivery_time, dtype: int64"
            ]
          },
          "metadata": {},
          "execution_count": 186
        }
      ]
    },
    {
      "cell_type": "code",
      "source": [
        "plt.figure(figsize=(11,3))\n",
        "plt.title(\"Percentage of Orders Based on Delivery Time (in minutes)\")\n",
        "sns.boxplot(data,x='delivery_time')\n",
        "plt.show;"
      ],
      "metadata": {
        "colab": {
          "base_uri": "https://localhost:8080/",
          "height": 333
        },
        "id": "0bmoKjH6aHR9",
        "outputId": "cfdfc8f7-11d4-4ae3-81a9-375f8ab4343c"
      },
      "execution_count": 187,
      "outputs": [
        {
          "output_type": "display_data",
          "data": {
            "text/plain": [
              "<Figure size 1100x300 with 1 Axes>"
            ],
            "image/png": "[encoded data removed]"
          },
          "metadata": {}
        }
      ]
    },
    {
      "cell_type": "code",
      "source": [
        "plt.figure(figsize=(11,4))\n",
        "plt.title(\"Number of Orders Based on Delivery Time (in minutes)\")\n",
        "sns.histplot(data,x='delivery_time')\n",
        "plt.show;"
      ],
      "metadata": {
        "colab": {
          "base_uri": "https://localhost:8080/",
          "height": 410
        },
        "id": "6_a5OSkIaRUP",
        "outputId": "884c2e92-0818-4b43-e258-7b1970937bc2"
      },
      "execution_count": 188,
      "outputs": [
        {
          "output_type": "display_data",
          "data": {
            "text/plain": [
              "<Figure size 1100x400 with 1 Axes>"
            ],
            "image/png": "[encoded data removed]"
          },
          "metadata": {}
        }
      ]
    },
    {
      "cell_type": "markdown",
      "source": [
        "**Observation:** The mean delivery time is 24.16 minutes. The minimum and maximum delivery time are 15 and 33 minutes respectively. The majority of orders (162 of which) is delivered in 24 minutes and only 41 orders (least amount) are delivered in 31 minutes. About 25% of orders are delivered within 20 minutes and 75% of which are delivered within 28 minutes."
      ],
      "metadata": {
        "id": "2o48sLI2akMV"
      }
    },
    {
      "cell_type": "markdown",
      "source": [
        "### **Question 7**"
      ],
      "metadata": {
        "id": "QN3-P717btJZ"
      }
    },
    {
      "cell_type": "code",
      "source": [
        "data['restaurant_name'].value_counts().nlargest(n=5)"
      ],
      "metadata": {
        "colab": {
          "base_uri": "https://localhost:8080/"
        },
        "id": "PjQe1GGjbzlP",
        "outputId": "3f753c9a-5d5c-4983-b300-185805ae7a47"
      },
      "execution_count": 197,
      "outputs": [
        {
          "output_type": "execute_result",
          "data": {
            "text/plain": [
              "Shake Shack                  219\n",
              "The Meatball Shop            132\n",
              "Blue Ribbon Sushi            119\n",
              "Blue Ribbon Fried Chicken     96\n",
              "Parm                          68\n",
              "Name: restaurant_name, dtype: int64"
            ]
          },
          "metadata": {},
          "execution_count": 197
        }
      ]
    },
    {
      "cell_type": "markdown",
      "source": [
        "**Observation:** The top 5 restaurants with the most number of orders received (from most to least) are Shake Shack, The Meatball Shop, Blue Ribbon Sushi, Blue Ribbon Fried Chicken and Parm."
      ],
      "metadata": {
        "id": "t0kVuV7Oc6c2"
      }
    },
    {
      "cell_type": "markdown",
      "source": [
        "### **Question 8**"
      ],
      "metadata": {
        "id": "saxZC_UkdSrX"
      }
    },
    {
      "cell_type": "code",
      "source": [
        "data_weekend_cuisine = data[data['day_of_the_week']=='Weekend']\n",
        "data_weekend_cuisine['cuisine_type'].value_counts().nlargest(n=1)"
      ],
      "metadata": {
        "colab": {
          "base_uri": "https://localhost:8080/"
        },
        "id": "nX0AljlqeCrP",
        "outputId": "d406cec1-44c0-4b7c-ac3a-31ccb511461b"
      },
      "execution_count": 228,
      "outputs": [
        {
          "output_type": "execute_result",
          "data": {
            "text/plain": [
              "American    415\n",
              "Name: cuisine_type, dtype: int64"
            ]
          },
          "metadata": {},
          "execution_count": 228
        }
      ]
    },
    {
      "cell_type": "markdown",
      "source": [
        "**Observation:** On the weekends, the most popular cuisine is American with 415 of the total 1898 orders."
      ],
      "metadata": {
        "id": "t42V2n8Mg6ZF"
      }
    },
    {
      "cell_type": "markdown",
      "source": [
        "### **Question 9**"
      ],
      "metadata": {
        "id": "uzOgpytShIVh"
      }
    },
    {
      "cell_type": "code",
      "source": [
        "data[data['cost_of_the_order']>20].shape[0]"
      ],
      "metadata": {
        "colab": {
          "base_uri": "https://localhost:8080/"
        },
        "id": "gXeet6OlhK7H",
        "outputId": "f2e921b4-0a26-4c1e-82ba-8119bfa126b0"
      },
      "execution_count": 229,
      "outputs": [
        {
          "output_type": "execute_result",
          "data": {
            "text/plain": [
              "555"
            ]
          },
          "metadata": {},
          "execution_count": 229
        }
      ]
    },
    {
      "cell_type": "code",
      "source": [
        "(data[data['cost_of_the_order']>20].shape[0])/(data.shape[0])*100"
      ],
      "metadata": {
        "colab": {
          "base_uri": "https://localhost:8080/"
        },
        "id": "fRNXYhsliOzx",
        "outputId": "732ae189-f9c0-4518-b9ef-7abff3b90557"
      },
      "execution_count": 234,
      "outputs": [
        {
          "output_type": "execute_result",
          "data": {
            "text/plain": [
              "29.24130663856691"
            ]
          },
          "metadata": {},
          "execution_count": 234
        }
      ]
    },
    {
      "cell_type": "code",
      "source": [
        "data_percent_20_dollars = data[data['cost_of_the_order']>20].shape[0]/(data.shape[0])*100\n",
        "\n",
        "data_percent_20_dollars_rounded = str(round(data_percent_20_dollars, 2))"
      ],
      "metadata": {
        "id": "QKVhtWkui2cr"
      },
      "execution_count": 241,
      "outputs": []
    },
    {
      "cell_type": "code",
      "source": [
        "print(\"\\033[1mObservation:\\033[0m There are \", data[data['cost_of_the_order']>20].shape[0], \" orders that cost more than 20 dollars, which is approximately \", data_percent_20_dollars_rounded, \"% of the total orders.\", sep='')"
      ],
      "metadata": {
        "colab": {
          "base_uri": "https://localhost:8080/"
        },
        "id": "2HoHOGc-hcrR",
        "outputId": "a4c426a8-0fb3-43d9-d16c-5c6da9befc58"
      },
      "execution_count": 256,
      "outputs": [
        {
          "output_type": "stream",
          "name": "stdout",
          "text": [
            "\u001b[1mObservation:\u001b[0m There are 555 orders that cost more than 20 dollars, which is approximately 29.24% of the total orders.\n"
          ]
        }
      ]
    },
    {
      "cell_type": "markdown",
      "source": [
        "### **Question 10**"
      ],
      "metadata": {
        "id": "ZKtFSBvMkkoK"
      }
    },
    {
      "cell_type": "code",
      "source": [
        "data_deliv_mean = data['delivery_time'].mean()"
      ],
      "metadata": {
        "id": "4EzJ3jzTkmsR"
      },
      "execution_count": 250,
      "outputs": []
    },
    {
      "cell_type": "code",
      "source": [
        "data_deliv_mean_rounded = str(round(data_deliv_mean, 2))"
      ],
      "metadata": {
        "id": "xqtE7T-Ck1Wh"
      },
      "execution_count": 251,
      "outputs": []
    },
    {
      "cell_type": "code",
      "source": [
        "print(\"\\033[1mObservation:\\033[0m The mean order delivery time is\", data_deliv_mean_rounded, \"minutes.\")"
      ],
      "metadata": {
        "colab": {
          "base_uri": "https://localhost:8080/"
        },
        "id": "Rph4GDZclOtl",
        "outputId": "39f8f477-0ffd-4b57-d0e3-776f930ea89e"
      },
      "execution_count": 259,
      "outputs": [
        {
          "output_type": "stream",
          "name": "stdout",
          "text": [
            "\u001b[1mObservation:\u001b[0m The mean order delivery time is 24.16 minutes.\n"
          ]
        }
      ]
    },
    {
      "cell_type": "markdown",
      "source": [
        "### **Question 11**"
      ],
      "metadata": {
        "id": "pN1PHgENl6-c"
      }
    },
    {
      "cell_type": "code",
      "source": [
        "data['customer_id'].value_counts().nlargest(n=3)"
      ],
      "metadata": {
        "colab": {
          "base_uri": "https://localhost:8080/"
        },
        "id": "kvrlXbwGmT7d",
        "outputId": "f910e310-e935-45fd-e2ec-74fa0b0327d9"
      },
      "execution_count": 261,
      "outputs": [
        {
          "output_type": "execute_result",
          "data": {
            "text/plain": [
              "52832    13\n",
              "47440    10\n",
              "83287     9\n",
              "Name: customer_id, dtype: int64"
            ]
          },
          "metadata": {},
          "execution_count": 261
        }
      ]
    },
    {
      "cell_type": "markdown",
      "source": [
        "**Observation:** The top 3 most frequent customers that can benefit from the 20% discount have the following IDs: '52832', '47440' and '83287'."
      ],
      "metadata": {
        "id": "Xj936SwqmaDA"
      }
    },
    {
      "cell_type": "markdown",
      "source": [
        "### **Question 12**"
      ],
      "metadata": {
        "id": "oZgzIw3Em2uv"
      }
    },
    {
      "cell_type": "markdown",
      "source": [
        "#### **Relationship Between Cuisine Type & Other Variables**"
      ],
      "metadata": {
        "id": "0sEERMlh4SSH"
      }
    },
    {
      "cell_type": "code",
      "source": [
        "plt.figure(figsize=(19,4))\n",
        "plt.title(\"Relationship Between Cuisine Type & Cost\")\n",
        "sns.boxplot(data, x='cuisine_type', y='cost_of_the_order')\n",
        "plt.show;"
      ],
      "metadata": {
        "colab": {
          "base_uri": "https://localhost:8080/",
          "height": 405
        },
        "id": "kRcV2dbom19c",
        "outputId": "a89f35d9-e36c-4c32-e58b-8a3719665142"
      },
      "execution_count": 268,
      "outputs": [
        {
          "output_type": "display_data",
          "data": {
            "text/plain": [
              "<Figure size 1900x400 with 1 Axes>"
            ],
            "image/png": "[encoded data removed]"
          },
          "metadata": {}
        }
      ]
    },
    {
      "cell_type": "code",
      "source": [
        "plt.figure(figsize=(19,4))\n",
        "plt.title(\"Relationship Between Cuisine Type & Preparation Time\")\n",
        "sns.boxplot(data, x='cuisine_type', y='food_preparation_time')\n",
        "plt.show;"
      ],
      "metadata": {
        "colab": {
          "base_uri": "https://localhost:8080/",
          "height": 405
        },
        "id": "gmxzYrJv3ftE",
        "outputId": "e4be4259-1c47-406b-fd03-1e1a6e582571"
      },
      "execution_count": 271,
      "outputs": [
        {
          "output_type": "display_data",
          "data": {
            "text/plain": [
              "<Figure size 1900x400 with 1 Axes>"
            ],
            "image/png": "[encoded data removed]"
          },
          "metadata": {}
        }
      ]
    },
    {
      "cell_type": "code",
      "source": [
        "plt.figure(figsize=(19,4))\n",
        "plt.title(\"Relationship Between Cuisine Type & Delivery Time\")\n",
        "sns.boxplot(data, x='cuisine_type', y='delivery_time')\n",
        "plt.show;"
      ],
      "metadata": {
        "colab": {
          "base_uri": "https://localhost:8080/",
          "height": 402
        },
        "id": "WYfecklP7Z8b",
        "outputId": "a301772a-51a7-4bde-843c-6b856ff79eb7"
      },
      "execution_count": 299,
      "outputs": [
        {
          "output_type": "display_data",
          "data": {
            "text/plain": [
              "<Figure size 1900x400 with 1 Axes>"
            ],
            "image/png": "[encoded data removed]"
          },
          "metadata": {}
        }
      ]
    },
    {
      "cell_type": "markdown",
      "source": [
        "#### **Relationship Between Rating & Other Variables**"
      ],
      "metadata": {
        "id": "_nXvwc6X5Vgs"
      }
    },
    {
      "cell_type": "code",
      "source": [
        "plt.figure(figsize=(12,4))\n",
        "plt.title(\"Relationship Between Rating & Cost\")\n",
        "sns.pointplot(data, x='rating', y='cost_of_the_order')\n",
        "plt.show;"
      ],
      "metadata": {
        "colab": {
          "base_uri": "https://localhost:8080/",
          "height": 410
        },
        "id": "PULQo3Q53v8D",
        "outputId": "8f3e0cdd-b44b-49b4-c9b4-54993b0835ef"
      },
      "execution_count": 296,
      "outputs": [
        {
          "output_type": "display_data",
          "data": {
            "text/plain": [
              "<Figure size 1200x400 with 1 Axes>"
            ],
            "image/png": "[encoded data removed]"
          },
          "metadata": {}
        }
      ]
    },
    {
      "cell_type": "code",
      "source": [
        "plt.figure(figsize=(12,4))\n",
        "plt.title(\"Relationship Between Rating & Food Preparation Time\")\n",
        "sns.pointplot(data, x='rating', y='food_preparation_time')\n",
        "plt.show;"
      ],
      "metadata": {
        "colab": {
          "base_uri": "https://localhost:8080/",
          "height": 410
        },
        "id": "cQvlDNwa58Sd",
        "outputId": "4aafe299-e0c6-4934-9212-e048a40d99ae"
      },
      "execution_count": 297,
      "outputs": [
        {
          "output_type": "display_data",
          "data": {
            "text/plain": [
              "<Figure size 1200x400 with 1 Axes>"
            ],
            "image/png": "[encoded data removed]"
          },
          "metadata": {}
        }
      ]
    },
    {
      "cell_type": "code",
      "source": [
        "plt.figure(figsize=(12,4))\n",
        "plt.title(\"Relationship Between Rating & Delivery Time\")\n",
        "sns.pointplot(data, x='rating', y='delivery_time')\n",
        "plt.show;"
      ],
      "metadata": {
        "colab": {
          "base_uri": "https://localhost:8080/",
          "height": 410
        },
        "id": "UJDzlr2K6SQx",
        "outputId": "b704c051-dd81-4570-d394-be8338546201"
      },
      "execution_count": 298,
      "outputs": [
        {
          "output_type": "display_data",
          "data": {
            "text/plain": [
              "<Figure size 1200x400 with 1 Axes>"
            ],
            "image/png": "[encoded data removed]"
          },
          "metadata": {}
        }
      ]
    },
    {
      "cell_type": "markdown",
      "source": [
        "#### **Relationship Between Day of the Week & Other Variables**"
      ],
      "metadata": {
        "id": "BwsUgSqy7OTd"
      }
    },
    {
      "cell_type": "code",
      "source": [
        "plt.figure(figsize=(12,4))\n",
        "plt.title(\"Relationship Between Day of the Week & Delivery Time\")\n",
        "sns.boxplot(data, x='day_of_the_week', y='delivery_time')\n",
        "plt.show;"
      ],
      "metadata": {
        "colab": {
          "base_uri": "https://localhost:8080/",
          "height": 410
        },
        "id": "A7PSI7I760eO",
        "outputId": "2f76d64c-2e64-4cb9-d5ce-3c852668ae8f"
      },
      "execution_count": 302,
      "outputs": [
        {
          "output_type": "display_data",
          "data": {
            "text/plain": [
              "<Figure size 1200x400 with 1 Axes>"
            ],
            "image/png": "[encoded data removed]"
          },
          "metadata": {}
        }
      ]
    },
    {
      "cell_type": "code",
      "source": [
        "plt.figure(figsize=(12,4))\n",
        "plt.title(\"Relationship Between Day of the Week & Food Preparation Time\")\n",
        "sns.boxplot(data, x='day_of_the_week', y='food_preparation_time')\n",
        "plt.show;"
      ],
      "metadata": {
        "colab": {
          "base_uri": "https://localhost:8080/",
          "height": 410
        },
        "id": "gt0OBsbg7m0M",
        "outputId": "d31f2b7a-accf-4d82-a4f4-f308baff853e"
      },
      "execution_count": 303,
      "outputs": [
        {
          "output_type": "display_data",
          "data": {
            "text/plain": [
              "<Figure size 1200x400 with 1 Axes>"
            ],
            "image/png": "[encoded data removed]"
          },
          "metadata": {}
        }
      ]
    },
    {
      "cell_type": "code",
      "source": [
        "plt.figure(figsize=(12,4))\n",
        "plt.title(\"Relationship Between Day of the Week & Cost\")\n",
        "sns.boxplot(data, x='day_of_the_week', y='cost_of_the_order')\n",
        "plt.show;"
      ],
      "metadata": {
        "colab": {
          "base_uri": "https://localhost:8080/",
          "height": 410
        },
        "id": "5LWuhpF_7u-Y",
        "outputId": "8f0247a4-2138-4aad-e7f5-7206e40fe65f"
      },
      "execution_count": 307,
      "outputs": [
        {
          "output_type": "display_data",
          "data": {
            "text/plain": [
              "<Figure size 1200x400 with 1 Axes>"
            ],
            "image/png": "[encoded data removed]"
          },
          "metadata": {}
        }
      ]
    },
    {
      "cell_type": "markdown",
      "source": [
        "#### **Relationship Between Restaurant Name & Other Variables**"
      ],
      "metadata": {
        "id": "hNSMiZae_qc7"
      }
    },
    {
      "cell_type": "code",
      "source": [
        "data_rest_cost_max = data.groupby(['restaurant_name'])['cost_of_the_order'].sum().sort_values(ascending=False).head(15)\n",
        "data_rest_cost_min = data.groupby(['restaurant_name'])['cost_of_the_order'].sum().sort_values(ascending=True).head(15)\n",
        "\n",
        "print(\"\\033[1mTop 15 restaurants with the highest sum of cost (in dollars):\\033[0m\\n\", data_rest_cost_max, \"\\n\")\n",
        "print(\"\\033[1mTop 15 restaurants with the lowest sum of cost (in dollars):\\033[0m\\n\", data_rest_cost_min, \"\\n\")"
      ],
      "metadata": {
        "colab": {
          "base_uri": "https://localhost:8080/"
        },
        "id": "9nCpEwQL_1cR",
        "outputId": "a1ae6787-34dc-4dd5-98d7-f8110234c3cf"
      },
      "execution_count": 366,
      "outputs": [
        {
          "output_type": "stream",
          "name": "stdout",
          "text": [
            "\u001b[1mTop 15 restaurants with the highest sum of cost (in dollars):\u001b[0m\n",
            " restaurant_name\n",
            "Shake Shack                      3579.53\n",
            "The Meatball Shop                2145.21\n",
            "Blue Ribbon Sushi                1903.95\n",
            "Blue Ribbon Fried Chicken        1662.29\n",
            "Parm                             1112.76\n",
            "RedFarm Broadway                  965.13\n",
            "RedFarm Hudson                    921.21\n",
            "TAO                               834.50\n",
            "Han Dynasty                       755.29\n",
            "Blue Ribbon Sushi Bar & Grill     666.62\n",
            "Rubirosa                          660.45\n",
            "Sushi of Gari 46                  640.87\n",
            "Nobu Next Door                    623.67\n",
            "Five Guys Burgers and Fries       506.47\n",
            "Momoya                            492.13\n",
            "Name: cost_of_the_order, dtype: float64 \n",
            "\n",
            "\u001b[1mTop 15 restaurants with the lowest sum of cost (in dollars):\u001b[0m\n",
            " restaurant_name\n",
            "Hunan Manor                       5.72\n",
            "Cipriani Le Specialita            5.92\n",
            "Big Wong Restaurant _¤¾Ñ¼        5.92\n",
            "Wa Jeal                           6.74\n",
            "Market Table                      6.79\n",
            "La Follia                         8.05\n",
            "'wichcraft                        8.10\n",
            "Woorijip                          8.25\n",
            "Chola Eclectic Indian Cuisine     8.73\n",
            "Gaia Italian Cafe                 8.78\n",
            "Lamarca Pasta                     9.22\n",
            "Balade                            9.22\n",
            "Samurai Mama                     11.64\n",
            "Frank Restaurant                 12.08\n",
            "The MasalaWala                   12.13\n",
            "Name: cost_of_the_order, dtype: float64 \n",
            "\n"
          ]
        }
      ]
    },
    {
      "cell_type": "code",
      "source": [
        "data_rest_prep_max = data.groupby(['restaurant_name'])['food_preparation_time'].mean().sort_values(ascending=False).head(10)\n",
        "data_rest_prep_min = data.groupby(['restaurant_name'])['food_preparation_time'].mean().sort_values(ascending=True).head(10)\n",
        "\n",
        "print(\"\\033[1mTop 10 restaurants with the highest mean values of food preparation time (in minutes):\\033[0m\\n\", data_rest_prep_max, \"\\n\")\n",
        "print(\"\\033[1mTop 10 restaurants with the lowest mean values of food preparation time (in minutes):\\033[0m\\n\", data_rest_prep_min, \"\\n\")"
      ],
      "metadata": {
        "colab": {
          "base_uri": "https://localhost:8080/"
        },
        "id": "t8yQtIaQAfbw",
        "outputId": "515ed370-3e2f-4168-e0c5-42137b2667ab"
      },
      "execution_count": 365,
      "outputs": [
        {
          "output_type": "stream",
          "name": "stdout",
          "text": [
            "\u001b[1mTop 10 restaurants with the highest mean values of food preparation time (in minutes):\u001b[0m\n",
            " restaurant_name\n",
            "Cipriani Le Specialita        35.0\n",
            "Sushi Choshi                  35.0\n",
            "Kambi Ramen House             35.0\n",
            "Klong                         35.0\n",
            "Taro Sushi                    35.0\n",
            "Spice Thai                    34.0\n",
            "Alidoro                       34.0\n",
            "Big Wong Restaurant _¤¾Ñ¼    34.0\n",
            "Il Bambino                    34.0\n",
            "Hot Kitchen                   33.0\n",
            "Name: food_preparation_time, dtype: float64 \n",
            "\n",
            "\u001b[1mTop 10 restaurants with the lowest mean values of food preparation time (in minutes):\u001b[0m\n",
            " restaurant_name\n",
            "Haru Gramercy Park            20.0\n",
            "67 Burger                     20.0\n",
            "Frank Restaurant              20.0\n",
            "DespaÌ±a                      20.5\n",
            "Sarabeth's West               21.0\n",
            "Lucky Strike                  21.0\n",
            "Song Thai Restaurant & Bar    21.0\n",
            "Hampton Chutney Co.           21.0\n",
            "Samurai Mama                  21.0\n",
            "Market Table                  21.0\n",
            "Name: food_preparation_time, dtype: float64 \n",
            "\n"
          ]
        }
      ]
    },
    {
      "cell_type": "code",
      "source": [
        "data_rest_deliv_max = data.groupby(['restaurant_name'])['delivery_time'].mean().sort_values(ascending=False).head(10)\n",
        "data_rest_deliv_min = data.groupby(['restaurant_name'])['delivery_time'].mean().sort_values(ascending=True).head(10)\n",
        "\n",
        "print(\"\\033[1mTop 10 restaurants with the highest mean values of delivery time (in minutes):\\033[0m\\n\", data_rest_deliv_max, \"\\n\")\n",
        "print(\"\\033[1mTop 10 restaurants with the lowest mean values of delivery time (in minutes):\\033[0m\\n\", data_rest_deliv_min, \"\\n\")"
      ],
      "metadata": {
        "colab": {
          "base_uri": "https://localhost:8080/"
        },
        "id": "tAbRqhrVDu2-",
        "outputId": "6a1c0543-8e53-4a33-a43e-f5f835b116cc"
      },
      "execution_count": 364,
      "outputs": [
        {
          "output_type": "stream",
          "name": "stdout",
          "text": [
            "\u001b[1mTop 10 restaurants with the highest mean values of delivery time (in minutes):\u001b[0m\n",
            " restaurant_name\n",
            "Sarabeth's West          33.0\n",
            "Taro Sushi               32.0\n",
            "Haru Gramercy Park       32.0\n",
            "Frank Restaurant         31.0\n",
            "Haandi                   30.5\n",
            "Chote Nawab              30.0\n",
            "Rye House                30.0\n",
            "Philippe Chow            30.0\n",
            "Le Zie 2000 Trattoria    30.0\n",
            "Carmine's                30.0\n",
            "Name: delivery_time, dtype: float64 \n",
            "\n",
            "\u001b[1mTop 10 restaurants with the lowest mean values of delivery time (in minutes):\u001b[0m\n",
            " restaurant_name\n",
            "Gaia Italian Cafe    15.0\n",
            "Paul & Jimmy's       15.0\n",
            "The MasalaWala       15.0\n",
            "Hibino               15.0\n",
            "Coppola's East       16.0\n",
            "Galli Restaurant     16.0\n",
            "Wo Hop Restaurant    16.0\n",
            "Market Table         17.0\n",
            "Byblos Restaurant    18.0\n",
            "Samurai Mama         18.0\n",
            "Name: delivery_time, dtype: float64 \n",
            "\n"
          ]
        }
      ]
    },
    {
      "cell_type": "markdown",
      "source": [
        "#### **Correlation Between Numerical Variables**"
      ],
      "metadata": {
        "id": "haEY0d1_8SPa"
      }
    },
    {
      "cell_type": "code",
      "source": [
        "corr_1 = ['cost_of_the_order', 'delivery_time', 'food_preparation_time']\n",
        "plt.figure(figsize=(12,4))\n",
        "plt.title(\"Correlation Between Cost, Delivery Time & Food Preparation Time\")\n",
        "sns.heatmap(data[corr_1].corr(), annot=True, vmin=-1, vmax=1, fmt=\".2f\", cmap=\"coolwarm\")\n",
        "plt.show;"
      ],
      "metadata": {
        "colab": {
          "base_uri": "https://localhost:8080/",
          "height": 391
        },
        "id": "nuXp4D7d8Wyj",
        "outputId": "93bf8ed3-41eb-4359-a218-cb3e69c7c854"
      },
      "execution_count": 543,
      "outputs": [
        {
          "output_type": "display_data",
          "data": {
            "text/plain": [
              "<Figure size 1200x400 with 2 Axes>"
            ],
            "image/png": "[encoded data removed]"
          },
          "metadata": {}
        }
      ]
    },
    {
      "cell_type": "markdown",
      "source": [
        "### **Question 13**"
      ],
      "metadata": {
        "id": "jhl-44gxFgbs"
      }
    },
    {
      "cell_type": "code",
      "source": [
        "rated_rest = data[data['rating'] != 'Not given'].copy()\n",
        "rated_rest['rating'] = rated_rest['rating'].astype('int')"
      ],
      "metadata": {
        "id": "wLi3wncSFmzd"
      },
      "execution_count": 532,
      "outputs": []
    },
    {
      "cell_type": "code",
      "source": [
        "rated_rest_count = rated_rest.groupby(['restaurant_name'])['rating'].count().sort_values(ascending=False).reset_index()\n",
        "rated_rest_count.head(10)"
      ],
      "metadata": {
        "colab": {
          "base_uri": "https://localhost:8080/",
          "height": 363
        },
        "id": "X7FoEdDgIeJC",
        "outputId": "b056bf01-af28-4087-ddba-40b0594cc30c"
      },
      "execution_count": 540,
      "outputs": [
        {
          "output_type": "execute_result",
          "data": {
            "text/plain": [
              "             restaurant_name  rating\n",
              "0                Shake Shack     133\n",
              "1          The Meatball Shop      84\n",
              "2          Blue Ribbon Sushi      73\n",
              "3  Blue Ribbon Fried Chicken      64\n",
              "4           RedFarm Broadway      41\n",
              "5                       Parm      39\n",
              "6             RedFarm Hudson      34\n",
              "7                        TAO      28\n",
              "8                   Rubirosa      24\n",
              "9             Nobu Next Door      23"
            ],
            "text/html": [
              "\n",
              "  <div id=\"df-317601cf-caa3-468a-8146-7b933b4c4093\" class=\"colab-df-container\">\n",
              "    <div>\n",
              "<style scoped>\n",
              "    .dataframe tbody tr th:only-of-type {\n",
              "        vertical-align: middle;\n",
              "    }\n",
              "\n",
              "    .dataframe tbody tr th {\n",
              "        vertical-align: top;\n",
              "    }\n",
              "\n",
              "    .dataframe thead th {\n",
              "        text-align: right;\n",
              "    }\n",
              "</style>\n",
              "<table border=\"1\" class=\"dataframe\">\n",
              "  <thead>\n",
              "    <tr style=\"text-align: right;\">\n",
              "      <th></th>\n",
              "      <th>restaurant_name</th>\n",
              "      <th>rating</th>\n",
              "    </tr>\n",
              "  </thead>\n",
              "  <tbody>\n",
              "    <tr>\n",
              "      <th>0</th>\n",
              "      <td>Shake Shack</td>\n",
              "      <td>133</td>\n",
              "    </tr>\n",
              "    <tr>\n",
              "      <th>1</th>\n",
              "      <td>The Meatball Shop</td>\n",
              "      <td>84</td>\n",
              "    </tr>\n",
              "    <tr>\n",
              "      <th>2</th>\n",
              "      <td>Blue Ribbon Sushi</td>\n",
              "      <td>73</td>\n",
              "    </tr>\n",
              "    <tr>\n",
              "      <th>3</th>\n",
              "      <td>Blue Ribbon Fried Chicken</td>\n",
              "      <td>64</td>\n",
              "    </tr>\n",
              "    <tr>\n",
              "      <th>4</th>\n",
              "      <td>RedFarm Broadway</td>\n",
              "      <td>41</td>\n",
              "    </tr>\n",
              "    <tr>\n",
              "      <th>5</th>\n",
              "      <td>Parm</td>\n",
              "      <td>39</td>\n",
              "    </tr>\n",
              "    <tr>\n",
              "      <th>6</th>\n",
              "      <td>RedFarm Hudson</td>\n",
              "      <td>34</td>\n",
              "    </tr>\n",
              "    <tr>\n",
              "      <th>7</th>\n",
              "      <td>TAO</td>\n",
              "      <td>28</td>\n",
              "    </tr>\n",
              "    <tr>\n",
              "      <th>8</th>\n",
              "      <td>Rubirosa</td>\n",
              "      <td>24</td>\n",
              "    </tr>\n",
              "    <tr>\n",
              "      <th>9</th>\n",
              "      <td>Nobu Next Door</td>\n",
              "      <td>23</td>\n",
              "    </tr>\n",
              "  </tbody>\n",
              "</table>\n",
              "</div>\n",
              "    <div class=\"colab-df-buttons\">\n",
              "\n",
              "  <div class=\"colab-df-container\">\n",
              "    <button class=\"colab-df-convert\" onclick=\"convertToInteractive('df-317601cf-caa3-468a-8146-7b933b4c4093')\"\n",
              "            title=\"Convert this dataframe to an interactive table.\"\n",
              "            style=\"display:none;\">\n",
              "\n",
              "  <svg xmlns=\"http://www.w3.org/2000/svg\" height=\"24px\" viewBox=\"0 -960 960 960\">\n",
              "    <path d=\"M120-120v-720h720v720H120Zm60-500h600v-160H180v160Zm220 220h160v-160H400v160Zm0 220h160v-160H400v160ZM180-400h160v-160H180v160Zm440 0h160v-160H620v160ZM180-180h160v-160H180v160Zm440 0h160v-160H620v160Z\"/>\n",
              "  </svg>\n",
              "    </button>\n",
              "\n",
              "  <style>\n",
              "    .colab-df-container {\n",
              "      display:flex;\n",
              "      gap: 12px;\n",
              "    }\n",
              "\n",
              "    .colab-df-convert {\n",
              "      background-color: #E8F0FE;\n",
              "      border: none;\n",
              "      border-radius: 50%;\n",
              "      cursor: pointer;\n",
              "      display: none;\n",
              "      fill: #1967D2;\n",
              "      height: 32px;\n",
              "      padding: 0 0 0 0;\n",
              "      width: 32px;\n",
              "    }\n",
              "\n",
              "    .colab-df-convert:hover {\n",
              "      background-color: #E2EBFA;\n",
              "      box-shadow: 0px 1px 2px rgba(60, 64, 67, 0.3), 0px 1px 3px 1px rgba(60, 64, 67, 0.15);\n",
              "      fill: #174EA6;\n",
              "    }\n",
              "\n",
              "    .colab-df-buttons div {\n",
              "      margin-bottom: 4px;\n",
              "    }\n",
              "\n",
              "    [theme=dark] .colab-df-convert {\n",
              "      background-color: #3B4455;\n",
              "      fill: #D2E3FC;\n",
              "    }\n",
              "\n",
              "    [theme=dark] .colab-df-convert:hover {\n",
              "      background-color: #434B5C;\n",
              "      box-shadow: 0px 1px 3px 1px rgba(0, 0, 0, 0.15);\n",
              "      filter: drop-shadow(0px 1px 2px rgba(0, 0, 0, 0.3));\n",
              "      fill: #FFFFFF;\n",
              "    }\n",
              "  </style>\n",
              "\n",
              "    <script>\n",
              "      const buttonEl =\n",
              "        document.querySelector('#df-317601cf-caa3-468a-8146-7b933b4c4093 button.colab-df-convert');\n",
              "      buttonEl.style.display =\n",
              "        google.colab.kernel.accessAllowed ? 'block' : 'none';\n",
              "\n",
              "      async function convertToInteractive(key) {\n",
              "        const element = document.querySelector('#df-317601cf-caa3-468a-8146-7b933b4c4093');\n",
              "        const dataTable =\n",
              "          await google.colab.kernel.invokeFunction('convertToInteractive',\n",
              "                                                    [key], {});\n",
              "        if (!dataTable) return;\n",
              "\n",
              "        const docLinkHtml = 'Like what you see? Visit the ' +\n",
              "          '<a target=\"_blank\" href=https://colab.research.google.com/notebooks/data_table.ipynb>data table notebook</a>'\n",
              "          + ' to learn more about interactive tables.';\n",
              "        element.innerHTML = '';\n",
              "        dataTable['output_type'] = 'display_data';\n",
              "        await google.colab.output.renderOutput(dataTable, element);\n",
              "        const docLink = document.createElement('div');\n",
              "        docLink.innerHTML = docLinkHtml;\n",
              "        element.appendChild(docLink);\n",
              "      }\n",
              "    </script>\n",
              "  </div>\n",
              "\n",
              "\n",
              "<div id=\"df-04fbdd86-0586-45e3-b7dc-507e5fe7a6a2\">\n",
              "  <button class=\"colab-df-quickchart\" onclick=\"quickchart('df-04fbdd86-0586-45e3-b7dc-507e5fe7a6a2')\"\n",
              "            title=\"Suggest charts\"\n",
              "            style=\"display:none;\">\n",
              "\n",
              "<svg xmlns=\"http://www.w3.org/2000/svg\" height=\"24px\"viewBox=\"0 0 24 24\"\n",
              "     width=\"24px\">\n",
              "    <g>\n",
              "        <path d=\"M19 3H5c-1.1 0-2 .9-2 2v14c0 1.1.9 2 2 2h14c1.1 0 2-.9 2-2V5c0-1.1-.9-2-2-2zM9 17H7v-7h2v7zm4 0h-2V7h2v10zm4 0h-2v-4h2v4z\"/>\n",
              "    </g>\n",
              "</svg>\n",
              "  </button>\n",
              "\n",
              "<style>\n",
              "  .colab-df-quickchart {\n",
              "      --bg-color: #E8F0FE;\n",
              "      --fill-color: #1967D2;\n",
              "      --hover-bg-color: #E2EBFA;\n",
              "      --hover-fill-color: #174EA6;\n",
              "      --disabled-fill-color: #AAA;\n",
              "      --disabled-bg-color: #DDD;\n",
              "  }\n",
              "\n",
              "  [theme=dark] .colab-df-quickchart {\n",
              "      --bg-color: #3B4455;\n",
              "      --fill-color: #D2E3FC;\n",
              "      --hover-bg-color: #434B5C;\n",
              "      --hover-fill-color: #FFFFFF;\n",
              "      --disabled-bg-color: #3B4455;\n",
              "      --disabled-fill-color: #666;\n",
              "  }\n",
              "\n",
              "  .colab-df-quickchart {\n",
              "    background-color: var(--bg-color);\n",
              "    border: none;\n",
              "    border-radius: 50%;\n",
              "    cursor: pointer;\n",
              "    display: none;\n",
              "    fill: var(--fill-color);\n",
              "    height: 32px;\n",
              "    padding: 0;\n",
              "    width: 32px;\n",
              "  }\n",
              "\n",
              "  .colab-df-quickchart:hover {\n",
              "    background-color: var(--hover-bg-color);\n",
              "    box-shadow: 0 1px 2px rgba(60, 64, 67, 0.3), 0 1px 3px 1px rgba(60, 64, 67, 0.15);\n",
              "    fill: var(--button-hover-fill-color);\n",
              "  }\n",
              "\n",
              "  .colab-df-quickchart-complete:disabled,\n",
              "  .colab-df-quickchart-complete:disabled:hover {\n",
              "    background-color: var(--disabled-bg-color);\n",
              "    fill: var(--disabled-fill-color);\n",
              "    box-shadow: none;\n",
              "  }\n",
              "\n",
              "  .colab-df-spinner {\n",
              "    border: 2px solid var(--fill-color);\n",
              "    border-color: transparent;\n",
              "    border-bottom-color: var(--fill-color);\n",
              "    animation:\n",
              "      spin 1s steps(1) infinite;\n",
              "  }\n",
              "\n",
              "  @keyframes spin {\n",
              "    0% {\n",
              "      border-color: transparent;\n",
              "      border-bottom-color: var(--fill-color);\n",
              "      border-left-color: var(--fill-color);\n",
              "    }\n",
              "    20% {\n",
              "      border-color: transparent;\n",
              "      border-left-color: var(--fill-color);\n",
              "      border-top-color: var(--fill-color);\n",
              "    }\n",
              "    30% {\n",
              "      border-color: transparent;\n",
              "      border-left-color: var(--fill-color);\n",
              "      border-top-color: var(--fill-color);\n",
              "      border-right-color: var(--fill-color);\n",
              "    }\n",
              "    40% {\n",
              "      border-color: transparent;\n",
              "      border-right-color: var(--fill-color);\n",
              "      border-top-color: var(--fill-color);\n",
              "    }\n",
              "    60% {\n",
              "      border-color: transparent;\n",
              "      border-right-color: var(--fill-color);\n",
              "    }\n",
              "    80% {\n",
              "      border-color: transparent;\n",
              "      border-right-color: var(--fill-color);\n",
              "      border-bottom-color: var(--fill-color);\n",
              "    }\n",
              "    90% {\n",
              "      border-color: transparent;\n",
              "      border-bottom-color: var(--fill-color);\n",
              "    }\n",
              "  }\n",
              "</style>\n",
              "\n",
              "  <script>\n",
              "    async function quickchart(key) {\n",
              "      const quickchartButtonEl =\n",
              "        document.querySelector('#' + key + ' button');\n",
              "      quickchartButtonEl.disabled = true;  // To prevent multiple clicks.\n",
              "      quickchartButtonEl.classList.add('colab-df-spinner');\n",
              "      try {\n",
              "        const charts = await google.colab.kernel.invokeFunction(\n",
              "            'suggestCharts', [key], {});\n",
              "      } catch (error) {\n",
              "        console.error('Error during call to suggestCharts:', error);\n",
              "      }\n",
              "      quickchartButtonEl.classList.remove('colab-df-spinner');\n",
              "      quickchartButtonEl.classList.add('colab-df-quickchart-complete');\n",
              "    }\n",
              "    (() => {\n",
              "      let quickchartButtonEl =\n",
              "        document.querySelector('#df-04fbdd86-0586-45e3-b7dc-507e5fe7a6a2 button');\n",
              "      quickchartButtonEl.style.display =\n",
              "        google.colab.kernel.accessAllowed ? 'block' : 'none';\n",
              "    })();\n",
              "  </script>\n",
              "</div>\n",
              "    </div>\n",
              "  </div>\n"
            ]
          },
          "metadata": {},
          "execution_count": 540
        }
      ]
    },
    {
      "cell_type": "code",
      "source": [
        "rated_rest_name = rated_rest_count[rated_rest_count['rating']>50]['restaurant_name']\n",
        "rated_rest_50 = rated_rest[rated_rest['restaurant_name'].isin(rated_rest_name)].copy()"
      ],
      "metadata": {
        "id": "U8kVzoTOgD81"
      },
      "execution_count": 538,
      "outputs": []
    },
    {
      "cell_type": "code",
      "source": [
        "rated_rest_50.groupby(['restaurant_name'])['rating'].mean().sort_values(ascending=False).reset_index().dropna()"
      ],
      "metadata": {
        "colab": {
          "base_uri": "https://localhost:8080/",
          "height": 175
        },
        "id": "6m-IKYSCjD-U",
        "outputId": "a2c3efe8-2b11-42eb-a257-3a5176cc1cb4"
      },
      "execution_count": 539,
      "outputs": [
        {
          "output_type": "execute_result",
          "data": {
            "text/plain": [
              "             restaurant_name    rating\n",
              "0          The Meatball Shop  4.511905\n",
              "1  Blue Ribbon Fried Chicken  4.328125\n",
              "2                Shake Shack  4.278195\n",
              "3          Blue Ribbon Sushi  4.219178"
            ],
            "text/html": [
              "\n",
              "  <div id=\"df-76840183-26d1-45df-9c2a-3b3e35424175\" class=\"colab-df-container\">\n",
              "    <div>\n",
              "<style scoped>\n",
              "    .dataframe tbody tr th:only-of-type {\n",
              "        vertical-align: middle;\n",
              "    }\n",
              "\n",
              "    .dataframe tbody tr th {\n",
              "        vertical-align: top;\n",
              "    }\n",
              "\n",
              "    .dataframe thead th {\n",
              "        text-align: right;\n",
              "    }\n",
              "</style>\n",
              "<table border=\"1\" class=\"dataframe\">\n",
              "  <thead>\n",
              "    <tr style=\"text-align: right;\">\n",
              "      <th></th>\n",
              "      <th>restaurant_name</th>\n",
              "      <th>rating</th>\n",
              "    </tr>\n",
              "  </thead>\n",
              "  <tbody>\n",
              "    <tr>\n",
              "      <th>0</th>\n",
              "      <td>The Meatball Shop</td>\n",
              "      <td>4.511905</td>\n",
              "    </tr>\n",
              "    <tr>\n",
              "      <th>1</th>\n",
              "      <td>Blue Ribbon Fried Chicken</td>\n",
              "      <td>4.328125</td>\n",
              "    </tr>\n",
              "    <tr>\n",
              "      <th>2</th>\n",
              "      <td>Shake Shack</td>\n",
              "      <td>4.278195</td>\n",
              "    </tr>\n",
              "    <tr>\n",
              "      <th>3</th>\n",
              "      <td>Blue Ribbon Sushi</td>\n",
              "      <td>4.219178</td>\n",
              "    </tr>\n",
              "  </tbody>\n",
              "</table>\n",
              "</div>\n",
              "    <div class=\"colab-df-buttons\">\n",
              "\n",
              "  <div class=\"colab-df-container\">\n",
              "    <button class=\"colab-df-convert\" onclick=\"convertToInteractive('df-76840183-26d1-45df-9c2a-3b3e35424175')\"\n",
              "            title=\"Convert this dataframe to an interactive table.\"\n",
              "            style=\"display:none;\">\n",
              "\n",
              "  <svg xmlns=\"http://www.w3.org/2000/svg\" height=\"24px\" viewBox=\"0 -960 960 960\">\n",
              "    <path d=\"M120-120v-720h720v720H120Zm60-500h600v-160H180v160Zm220 220h160v-160H400v160Zm0 220h160v-160H400v160ZM180-400h160v-160H180v160Zm440 0h160v-160H620v160ZM180-180h160v-160H180v160Zm440 0h160v-160H620v160Z\"/>\n",
              "  </svg>\n",
              "    </button>\n",
              "\n",
              "  <style>\n",
              "    .colab-df-container {\n",
              "      display:flex;\n",
              "      gap: 12px;\n",
              "    }\n",
              "\n",
              "    .colab-df-convert {\n",
              "      background-color: #E8F0FE;\n",
              "      border: none;\n",
              "      border-radius: 50%;\n",
              "      cursor: pointer;\n",
              "      display: none;\n",
              "      fill: #1967D2;\n",
              "      height: 32px;\n",
              "      padding: 0 0 0 0;\n",
              "      width: 32px;\n",
              "    }\n",
              "\n",
              "    .colab-df-convert:hover {\n",
              "      background-color: #E2EBFA;\n",
              "      box-shadow: 0px 1px 2px rgba(60, 64, 67, 0.3), 0px 1px 3px 1px rgba(60, 64, 67, 0.15);\n",
              "      fill: #174EA6;\n",
              "    }\n",
              "\n",
              "    .colab-df-buttons div {\n",
              "      margin-bottom: 4px;\n",
              "    }\n",
              "\n",
              "    [theme=dark] .colab-df-convert {\n",
              "      background-color: #3B4455;\n",
              "      fill: #D2E3FC;\n",
              "    }\n",
              "\n",
              "    [theme=dark] .colab-df-convert:hover {\n",
              "      background-color: #434B5C;\n",
              "      box-shadow: 0px 1px 3px 1px rgba(0, 0, 0, 0.15);\n",
              "      filter: drop-shadow(0px 1px 2px rgba(0, 0, 0, 0.3));\n",
              "      fill: #FFFFFF;\n",
              "    }\n",
              "  </style>\n",
              "\n",
              "    <script>\n",
              "      const buttonEl =\n",
              "        document.querySelector('#df-76840183-26d1-45df-9c2a-3b3e35424175 button.colab-df-convert');\n",
              "      buttonEl.style.display =\n",
              "        google.colab.kernel.accessAllowed ? 'block' : 'none';\n",
              "\n",
              "      async function convertToInteractive(key) {\n",
              "        const element = document.querySelector('#df-76840183-26d1-45df-9c2a-3b3e35424175');\n",
              "        const dataTable =\n",
              "          await google.colab.kernel.invokeFunction('convertToInteractive',\n",
              "                                                    [key], {});\n",
              "        if (!dataTable) return;\n",
              "\n",
              "        const docLinkHtml = 'Like what you see? Visit the ' +\n",
              "          '<a target=\"_blank\" href=https://colab.research.google.com/notebooks/data_table.ipynb>data table notebook</a>'\n",
              "          + ' to learn more about interactive tables.';\n",
              "        element.innerHTML = '';\n",
              "        dataTable['output_type'] = 'display_data';\n",
              "        await google.colab.output.renderOutput(dataTable, element);\n",
              "        const docLink = document.createElement('div');\n",
              "        docLink.innerHTML = docLinkHtml;\n",
              "        element.appendChild(docLink);\n",
              "      }\n",
              "    </script>\n",
              "  </div>\n",
              "\n",
              "\n",
              "<div id=\"df-f85f8550-77cf-4f3d-9678-d00d78536e37\">\n",
              "  <button class=\"colab-df-quickchart\" onclick=\"quickchart('df-f85f8550-77cf-4f3d-9678-d00d78536e37')\"\n",
              "            title=\"Suggest charts\"\n",
              "            style=\"display:none;\">\n",
              "\n",
              "<svg xmlns=\"http://www.w3.org/2000/svg\" height=\"24px\"viewBox=\"0 0 24 24\"\n",
              "     width=\"24px\">\n",
              "    <g>\n",
              "        <path d=\"M19 3H5c-1.1 0-2 .9-2 2v14c0 1.1.9 2 2 2h14c1.1 0 2-.9 2-2V5c0-1.1-.9-2-2-2zM9 17H7v-7h2v7zm4 0h-2V7h2v10zm4 0h-2v-4h2v4z\"/>\n",
              "    </g>\n",
              "</svg>\n",
              "  </button>\n",
              "\n",
              "<style>\n",
              "  .colab-df-quickchart {\n",
              "      --bg-color: #E8F0FE;\n",
              "      --fill-color: #1967D2;\n",
              "      --hover-bg-color: #E2EBFA;\n",
              "      --hover-fill-color: #174EA6;\n",
              "      --disabled-fill-color: #AAA;\n",
              "      --disabled-bg-color: #DDD;\n",
              "  }\n",
              "\n",
              "  [theme=dark] .colab-df-quickchart {\n",
              "      --bg-color: #3B4455;\n",
              "      --fill-color: #D2E3FC;\n",
              "      --hover-bg-color: #434B5C;\n",
              "      --hover-fill-color: #FFFFFF;\n",
              "      --disabled-bg-color: #3B4455;\n",
              "      --disabled-fill-color: #666;\n",
              "  }\n",
              "\n",
              "  .colab-df-quickchart {\n",
              "    background-color: var(--bg-color);\n",
              "    border: none;\n",
              "    border-radius: 50%;\n",
              "    cursor: pointer;\n",
              "    display: none;\n",
              "    fill: var(--fill-color);\n",
              "    height: 32px;\n",
              "    padding: 0;\n",
              "    width: 32px;\n",
              "  }\n",
              "\n",
              "  .colab-df-quickchart:hover {\n",
              "    background-color: var(--hover-bg-color);\n",
              "    box-shadow: 0 1px 2px rgba(60, 64, 67, 0.3), 0 1px 3px 1px rgba(60, 64, 67, 0.15);\n",
              "    fill: var(--button-hover-fill-color);\n",
              "  }\n",
              "\n",
              "  .colab-df-quickchart-complete:disabled,\n",
              "  .colab-df-quickchart-complete:disabled:hover {\n",
              "    background-color: var(--disabled-bg-color);\n",
              "    fill: var(--disabled-fill-color);\n",
              "    box-shadow: none;\n",
              "  }\n",
              "\n",
              "  .colab-df-spinner {\n",
              "    border: 2px solid var(--fill-color);\n",
              "    border-color: transparent;\n",
              "    border-bottom-color: var(--fill-color);\n",
              "    animation:\n",
              "      spin 1s steps(1) infinite;\n",
              "  }\n",
              "\n",
              "  @keyframes spin {\n",
              "    0% {\n",
              "      border-color: transparent;\n",
              "      border-bottom-color: var(--fill-color);\n",
              "      border-left-color: var(--fill-color);\n",
              "    }\n",
              "    20% {\n",
              "      border-color: transparent;\n",
              "      border-left-color: var(--fill-color);\n",
              "      border-top-color: var(--fill-color);\n",
              "    }\n",
              "    30% {\n",
              "      border-color: transparent;\n",
              "      border-left-color: var(--fill-color);\n",
              "      border-top-color: var(--fill-color);\n",
              "      border-right-color: var(--fill-color);\n",
              "    }\n",
              "    40% {\n",
              "      border-color: transparent;\n",
              "      border-right-color: var(--fill-color);\n",
              "      border-top-color: var(--fill-color);\n",
              "    }\n",
              "    60% {\n",
              "      border-color: transparent;\n",
              "      border-right-color: var(--fill-color);\n",
              "    }\n",
              "    80% {\n",
              "      border-color: transparent;\n",
              "      border-right-color: var(--fill-color);\n",
              "      border-bottom-color: var(--fill-color);\n",
              "    }\n",
              "    90% {\n",
              "      border-color: transparent;\n",
              "      border-bottom-color: var(--fill-color);\n",
              "    }\n",
              "  }\n",
              "</style>\n",
              "\n",
              "  <script>\n",
              "    async function quickchart(key) {\n",
              "      const quickchartButtonEl =\n",
              "        document.querySelector('#' + key + ' button');\n",
              "      quickchartButtonEl.disabled = true;  // To prevent multiple clicks.\n",
              "      quickchartButtonEl.classList.add('colab-df-spinner');\n",
              "      try {\n",
              "        const charts = await google.colab.kernel.invokeFunction(\n",
              "            'suggestCharts', [key], {});\n",
              "      } catch (error) {\n",
              "        console.error('Error during call to suggestCharts:', error);\n",
              "      }\n",
              "      quickchartButtonEl.classList.remove('colab-df-spinner');\n",
              "      quickchartButtonEl.classList.add('colab-df-quickchart-complete');\n",
              "    }\n",
              "    (() => {\n",
              "      let quickchartButtonEl =\n",
              "        document.querySelector('#df-f85f8550-77cf-4f3d-9678-d00d78536e37 button');\n",
              "      quickchartButtonEl.style.display =\n",
              "        google.colab.kernel.accessAllowed ? 'block' : 'none';\n",
              "    })();\n",
              "  </script>\n",
              "</div>\n",
              "    </div>\n",
              "  </div>\n"
            ]
          },
          "metadata": {},
          "execution_count": 539
        }
      ]
    },
    {
      "cell_type": "markdown",
      "source": [
        "**Observation:** Only 4 restaurants can qualify for the promotional offer since they have a rating count of more than 50 and average rating of more than 4. These restaurant brands include The Meatball Shop, Blue Ribbon Fried Chicken, Shake Shack and Blue Ribbon Sushi."
      ],
      "metadata": {
        "id": "5ij5gO2rkf7E"
      }
    },
    {
      "cell_type": "markdown",
      "source": [
        "### **Question 14**"
      ],
      "metadata": {
        "id": "ADwNYpSrOrHG"
      }
    },
    {
      "cell_type": "code",
      "source": [
        "def func_rev(i):\n",
        "  if i > 20:\n",
        "    return i*0.25\n",
        "  elif i > 5:\n",
        "    return i*0.15\n",
        "  else:\n",
        "    return i*0"
      ],
      "metadata": {
        "id": "dXNQmCYGOtns"
      },
      "execution_count": 412,
      "outputs": []
    },
    {
      "cell_type": "code",
      "source": [
        "data['Revenue'] = data['cost_of_the_order'].apply(func_rev)\n",
        "data.head(10)"
      ],
      "metadata": {
        "colab": {
          "base_uri": "https://localhost:8080/",
          "height": 363
        },
        "id": "yu4n-8mTRy8L",
        "outputId": "5926fd5c-9045-48e0-da43-102957503c6e"
      },
      "execution_count": 541,
      "outputs": [
        {
          "output_type": "execute_result",
          "data": {
            "text/plain": [
              "   order_id  customer_id            restaurant_name   cuisine_type  \\\n",
              "0   1477147       337525                    Hangawi         Korean   \n",
              "1   1477685       358141  Blue Ribbon Sushi Izakaya       Japanese   \n",
              "2   1477070        66393                Cafe Habana        Mexican   \n",
              "3   1477334       106968  Blue Ribbon Fried Chicken       American   \n",
              "4   1478249        76942           Dirty Bird to Go       American   \n",
              "5   1477224       147468           Tamarind TriBeCa         Indian   \n",
              "6   1477894       157711          The Meatball Shop        Italian   \n",
              "7   1477859        89574                  Barbounia  Mediterranean   \n",
              "8   1477174       121706         Anjappar Chettinad         Indian   \n",
              "9   1477311        39705              Bukhara Grill         Indian   \n",
              "\n",
              "   cost_of_the_order day_of_the_week     rating  food_preparation_time  \\\n",
              "0              30.75         Weekend  Not given                     25   \n",
              "1              12.08         Weekend  Not given                     25   \n",
              "2              12.23         Weekday          5                     23   \n",
              "3              29.20         Weekend          3                     25   \n",
              "4              11.59         Weekday          4                     25   \n",
              "5              25.22         Weekday          3                     20   \n",
              "6               6.07         Weekend  Not given                     28   \n",
              "7               5.97         Weekday          3                     33   \n",
              "8              16.44         Weekday          5                     21   \n",
              "9               7.18         Weekday          5                     29   \n",
              "\n",
              "   delivery_time  Revenue  total_time  \n",
              "0             20   7.6875          45  \n",
              "1             23   1.8120          48  \n",
              "2             28   1.8345          51  \n",
              "3             15   7.3000          40  \n",
              "4             24   1.7385          49  \n",
              "5             24   6.3050          44  \n",
              "6             21   0.9105          49  \n",
              "7             30   0.8955          63  \n",
              "8             26   2.4660          47  \n",
              "9             26   1.0770          55  "
            ],
            "text/html": [
              "\n",
              "  <div id=\"df-c4b0c586-84b4-439c-92a7-04cef4d9a987\" class=\"colab-df-container\">\n",
              "    <div>\n",
              "<style scoped>\n",
              "    .dataframe tbody tr th:only-of-type {\n",
              "        vertical-align: middle;\n",
              "    }\n",
              "\n",
              "    .dataframe tbody tr th {\n",
              "        vertical-align: top;\n",
              "    }\n",
              "\n",
              "    .dataframe thead th {\n",
              "        text-align: right;\n",
              "    }\n",
              "</style>\n",
              "<table border=\"1\" class=\"dataframe\">\n",
              "  <thead>\n",
              "    <tr style=\"text-align: right;\">\n",
              "      <th></th>\n",
              "      <th>order_id</th>\n",
              "      <th>customer_id</th>\n",
              "      <th>restaurant_name</th>\n",
              "      <th>cuisine_type</th>\n",
              "      <th>cost_of_the_order</th>\n",
              "      <th>day_of_the_week</th>\n",
              "      <th>rating</th>\n",
              "      <th>food_preparation_time</th>\n",
              "      <th>delivery_time</th>\n",
              "      <th>Revenue</th>\n",
              "      <th>total_time</th>\n",
              "    </tr>\n",
              "  </thead>\n",
              "  <tbody>\n",
              "    <tr>\n",
              "      <th>0</th>\n",
              "      <td>1477147</td>\n",
              "      <td>337525</td>\n",
              "      <td>Hangawi</td>\n",
              "      <td>Korean</td>\n",
              "      <td>30.75</td>\n",
              "      <td>Weekend</td>\n",
              "      <td>Not given</td>\n",
              "      <td>25</td>\n",
              "      <td>20</td>\n",
              "      <td>7.6875</td>\n",
              "      <td>45</td>\n",
              "    </tr>\n",
              "    <tr>\n",
              "      <th>1</th>\n",
              "      <td>1477685</td>\n",
              "      <td>358141</td>\n",
              "      <td>Blue Ribbon Sushi Izakaya</td>\n",
              "      <td>Japanese</td>\n",
              "      <td>12.08</td>\n",
              "      <td>Weekend</td>\n",
              "      <td>Not given</td>\n",
              "      <td>25</td>\n",
              "      <td>23</td>\n",
              "      <td>1.8120</td>\n",
              "      <td>48</td>\n",
              "    </tr>\n",
              "    <tr>\n",
              "      <th>2</th>\n",
              "      <td>1477070</td>\n",
              "      <td>66393</td>\n",
              "      <td>Cafe Habana</td>\n",
              "      <td>Mexican</td>\n",
              "      <td>12.23</td>\n",
              "      <td>Weekday</td>\n",
              "      <td>5</td>\n",
              "      <td>23</td>\n",
              "      <td>28</td>\n",
              "      <td>1.8345</td>\n",
              "      <td>51</td>\n",
              "    </tr>\n",
              "    <tr>\n",
              "      <th>3</th>\n",
              "      <td>1477334</td>\n",
              "      <td>106968</td>\n",
              "      <td>Blue Ribbon Fried Chicken</td>\n",
              "      <td>American</td>\n",
              "      <td>29.20</td>\n",
              "      <td>Weekend</td>\n",
              "      <td>3</td>\n",
              "      <td>25</td>\n",
              "      <td>15</td>\n",
              "      <td>7.3000</td>\n",
              "      <td>40</td>\n",
              "    </tr>\n",
              "    <tr>\n",
              "      <th>4</th>\n",
              "      <td>1478249</td>\n",
              "      <td>76942</td>\n",
              "      <td>Dirty Bird to Go</td>\n",
              "      <td>American</td>\n",
              "      <td>11.59</td>\n",
              "      <td>Weekday</td>\n",
              "      <td>4</td>\n",
              "      <td>25</td>\n",
              "      <td>24</td>\n",
              "      <td>1.7385</td>\n",
              "      <td>49</td>\n",
              "    </tr>\n",
              "    <tr>\n",
              "      <th>5</th>\n",
              "      <td>1477224</td>\n",
              "      <td>147468</td>\n",
              "      <td>Tamarind TriBeCa</td>\n",
              "      <td>Indian</td>\n",
              "      <td>25.22</td>\n",
              "      <td>Weekday</td>\n",
              "      <td>3</td>\n",
              "      <td>20</td>\n",
              "      <td>24</td>\n",
              "      <td>6.3050</td>\n",
              "      <td>44</td>\n",
              "    </tr>\n",
              "    <tr>\n",
              "      <th>6</th>\n",
              "      <td>1477894</td>\n",
              "      <td>157711</td>\n",
              "      <td>The Meatball Shop</td>\n",
              "      <td>Italian</td>\n",
              "      <td>6.07</td>\n",
              "      <td>Weekend</td>\n",
              "      <td>Not given</td>\n",
              "      <td>28</td>\n",
              "      <td>21</td>\n",
              "      <td>0.9105</td>\n",
              "      <td>49</td>\n",
              "    </tr>\n",
              "    <tr>\n",
              "      <th>7</th>\n",
              "      <td>1477859</td>\n",
              "      <td>89574</td>\n",
              "      <td>Barbounia</td>\n",
              "      <td>Mediterranean</td>\n",
              "      <td>5.97</td>\n",
              "      <td>Weekday</td>\n",
              "      <td>3</td>\n",
              "      <td>33</td>\n",
              "      <td>30</td>\n",
              "      <td>0.8955</td>\n",
              "      <td>63</td>\n",
              "    </tr>\n",
              "    <tr>\n",
              "      <th>8</th>\n",
              "      <td>1477174</td>\n",
              "      <td>121706</td>\n",
              "      <td>Anjappar Chettinad</td>\n",
              "      <td>Indian</td>\n",
              "      <td>16.44</td>\n",
              "      <td>Weekday</td>\n",
              "      <td>5</td>\n",
              "      <td>21</td>\n",
              "      <td>26</td>\n",
              "      <td>2.4660</td>\n",
              "      <td>47</td>\n",
              "    </tr>\n",
              "    <tr>\n",
              "      <th>9</th>\n",
              "      <td>1477311</td>\n",
              "      <td>39705</td>\n",
              "      <td>Bukhara Grill</td>\n",
              "      <td>Indian</td>\n",
              "      <td>7.18</td>\n",
              "      <td>Weekday</td>\n",
              "      <td>5</td>\n",
              "      <td>29</td>\n",
              "      <td>26</td>\n",
              "      <td>1.0770</td>\n",
              "      <td>55</td>\n",
              "    </tr>\n",
              "  </tbody>\n",
              "</table>\n",
              "</div>\n",
              "    <div class=\"colab-df-buttons\">\n",
              "\n",
              "  <div class=\"colab-df-container\">\n",
              "    <button class=\"colab-df-convert\" onclick=\"convertToInteractive('df-c4b0c586-84b4-439c-92a7-04cef4d9a987')\"\n",
              "            title=\"Convert this dataframe to an interactive table.\"\n",
              "            style=\"display:none;\">\n",
              "\n",
              "  <svg xmlns=\"http://www.w3.org/2000/svg\" height=\"24px\" viewBox=\"0 -960 960 960\">\n",
              "    <path d=\"M120-120v-720h720v720H120Zm60-500h600v-160H180v160Zm220 220h160v-160H400v160Zm0 220h160v-160H400v160ZM180-400h160v-160H180v160Zm440 0h160v-160H620v160ZM180-180h160v-160H180v160Zm440 0h160v-160H620v160Z\"/>\n",
              "  </svg>\n",
              "    </button>\n",
              "\n",
              "  <style>\n",
              "    .colab-df-container {\n",
              "      display:flex;\n",
              "      gap: 12px;\n",
              "    }\n",
              "\n",
              "    .colab-df-convert {\n",
              "      background-color: #E8F0FE;\n",
              "      border: none;\n",
              "      border-radius: 50%;\n",
              "      cursor: pointer;\n",
              "      display: none;\n",
              "      fill: #1967D2;\n",
              "      height: 32px;\n",
              "      padding: 0 0 0 0;\n",
              "      width: 32px;\n",
              "    }\n",
              "\n",
              "    .colab-df-convert:hover {\n",
              "      background-color: #E2EBFA;\n",
              "      box-shadow: 0px 1px 2px rgba(60, 64, 67, 0.3), 0px 1px 3px 1px rgba(60, 64, 67, 0.15);\n",
              "      fill: #174EA6;\n",
              "    }\n",
              "\n",
              "    .colab-df-buttons div {\n",
              "      margin-bottom: 4px;\n",
              "    }\n",
              "\n",
              "    [theme=dark] .colab-df-convert {\n",
              "      background-color: #3B4455;\n",
              "      fill: #D2E3FC;\n",
              "    }\n",
              "\n",
              "    [theme=dark] .colab-df-convert:hover {\n",
              "      background-color: #434B5C;\n",
              "      box-shadow: 0px 1px 3px 1px rgba(0, 0, 0, 0.15);\n",
              "      filter: drop-shadow(0px 1px 2px rgba(0, 0, 0, 0.3));\n",
              "      fill: #FFFFFF;\n",
              "    }\n",
              "  </style>\n",
              "\n",
              "    <script>\n",
              "      const buttonEl =\n",
              "        document.querySelector('#df-c4b0c586-84b4-439c-92a7-04cef4d9a987 button.colab-df-convert');\n",
              "      buttonEl.style.display =\n",
              "        google.colab.kernel.accessAllowed ? 'block' : 'none';\n",
              "\n",
              "      async function convertToInteractive(key) {\n",
              "        const element = document.querySelector('#df-c4b0c586-84b4-439c-92a7-04cef4d9a987');\n",
              "        const dataTable =\n",
              "          await google.colab.kernel.invokeFunction('convertToInteractive',\n",
              "                                                    [key], {});\n",
              "        if (!dataTable) return;\n",
              "\n",
              "        const docLinkHtml = 'Like what you see? Visit the ' +\n",
              "          '<a target=\"_blank\" href=https://colab.research.google.com/notebooks/data_table.ipynb>data table notebook</a>'\n",
              "          + ' to learn more about interactive tables.';\n",
              "        element.innerHTML = '';\n",
              "        dataTable['output_type'] = 'display_data';\n",
              "        await google.colab.output.renderOutput(dataTable, element);\n",
              "        const docLink = document.createElement('div');\n",
              "        docLink.innerHTML = docLinkHtml;\n",
              "        element.appendChild(docLink);\n",
              "      }\n",
              "    </script>\n",
              "  </div>\n",
              "\n",
              "\n",
              "<div id=\"df-4a4e935e-0622-4e93-9251-939a208d7d72\">\n",
              "  <button class=\"colab-df-quickchart\" onclick=\"quickchart('df-4a4e935e-0622-4e93-9251-939a208d7d72')\"\n",
              "            title=\"Suggest charts\"\n",
              "            style=\"display:none;\">\n",
              "\n",
              "<svg xmlns=\"http://www.w3.org/2000/svg\" height=\"24px\"viewBox=\"0 0 24 24\"\n",
              "     width=\"24px\">\n",
              "    <g>\n",
              "        <path d=\"M19 3H5c-1.1 0-2 .9-2 2v14c0 1.1.9 2 2 2h14c1.1 0 2-.9 2-2V5c0-1.1-.9-2-2-2zM9 17H7v-7h2v7zm4 0h-2V7h2v10zm4 0h-2v-4h2v4z\"/>\n",
              "    </g>\n",
              "</svg>\n",
              "  </button>\n",
              "\n",
              "<style>\n",
              "  .colab-df-quickchart {\n",
              "      --bg-color: #E8F0FE;\n",
              "      --fill-color: #1967D2;\n",
              "      --hover-bg-color: #E2EBFA;\n",
              "      --hover-fill-color: #174EA6;\n",
              "      --disabled-fill-color: #AAA;\n",
              "      --disabled-bg-color: #DDD;\n",
              "  }\n",
              "\n",
              "  [theme=dark] .colab-df-quickchart {\n",
              "      --bg-color: #3B4455;\n",
              "      --fill-color: #D2E3FC;\n",
              "      --hover-bg-color: #434B5C;\n",
              "      --hover-fill-color: #FFFFFF;\n",
              "      --disabled-bg-color: #3B4455;\n",
              "      --disabled-fill-color: #666;\n",
              "  }\n",
              "\n",
              "  .colab-df-quickchart {\n",
              "    background-color: var(--bg-color);\n",
              "    border: none;\n",
              "    border-radius: 50%;\n",
              "    cursor: pointer;\n",
              "    display: none;\n",
              "    fill: var(--fill-color);\n",
              "    height: 32px;\n",
              "    padding: 0;\n",
              "    width: 32px;\n",
              "  }\n",
              "\n",
              "  .colab-df-quickchart:hover {\n",
              "    background-color: var(--hover-bg-color);\n",
              "    box-shadow: 0 1px 2px rgba(60, 64, 67, 0.3), 0 1px 3px 1px rgba(60, 64, 67, 0.15);\n",
              "    fill: var(--button-hover-fill-color);\n",
              "  }\n",
              "\n",
              "  .colab-df-quickchart-complete:disabled,\n",
              "  .colab-df-quickchart-complete:disabled:hover {\n",
              "    background-color: var(--disabled-bg-color);\n",
              "    fill: var(--disabled-fill-color);\n",
              "    box-shadow: none;\n",
              "  }\n",
              "\n",
              "  .colab-df-spinner {\n",
              "    border: 2px solid var(--fill-color);\n",
              "    border-color: transparent;\n",
              "    border-bottom-color: var(--fill-color);\n",
              "    animation:\n",
              "      spin 1s steps(1) infinite;\n",
              "  }\n",
              "\n",
              "  @keyframes spin {\n",
              "    0% {\n",
              "      border-color: transparent;\n",
              "      border-bottom-color: var(--fill-color);\n",
              "      border-left-color: var(--fill-color);\n",
              "    }\n",
              "    20% {\n",
              "      border-color: transparent;\n",
              "      border-left-color: var(--fill-color);\n",
              "      border-top-color: var(--fill-color);\n",
              "    }\n",
              "    30% {\n",
              "      border-color: transparent;\n",
              "      border-left-color: var(--fill-color);\n",
              "      border-top-color: var(--fill-color);\n",
              "      border-right-color: var(--fill-color);\n",
              "    }\n",
              "    40% {\n",
              "      border-color: transparent;\n",
              "      border-right-color: var(--fill-color);\n",
              "      border-top-color: var(--fill-color);\n",
              "    }\n",
              "    60% {\n",
              "      border-color: transparent;\n",
              "      border-right-color: var(--fill-color);\n",
              "    }\n",
              "    80% {\n",
              "      border-color: transparent;\n",
              "      border-right-color: var(--fill-color);\n",
              "      border-bottom-color: var(--fill-color);\n",
              "    }\n",
              "    90% {\n",
              "      border-color: transparent;\n",
              "      border-bottom-color: var(--fill-color);\n",
              "    }\n",
              "  }\n",
              "</style>\n",
              "\n",
              "  <script>\n",
              "    async function quickchart(key) {\n",
              "      const quickchartButtonEl =\n",
              "        document.querySelector('#' + key + ' button');\n",
              "      quickchartButtonEl.disabled = true;  // To prevent multiple clicks.\n",
              "      quickchartButtonEl.classList.add('colab-df-spinner');\n",
              "      try {\n",
              "        const charts = await google.colab.kernel.invokeFunction(\n",
              "            'suggestCharts', [key], {});\n",
              "      } catch (error) {\n",
              "        console.error('Error during call to suggestCharts:', error);\n",
              "      }\n",
              "      quickchartButtonEl.classList.remove('colab-df-spinner');\n",
              "      quickchartButtonEl.classList.add('colab-df-quickchart-complete');\n",
              "    }\n",
              "    (() => {\n",
              "      let quickchartButtonEl =\n",
              "        document.querySelector('#df-4a4e935e-0622-4e93-9251-939a208d7d72 button');\n",
              "      quickchartButtonEl.style.display =\n",
              "        google.colab.kernel.accessAllowed ? 'block' : 'none';\n",
              "    })();\n",
              "  </script>\n",
              "</div>\n",
              "    </div>\n",
              "  </div>\n"
            ]
          },
          "metadata": {},
          "execution_count": 541
        }
      ]
    },
    {
      "cell_type": "code",
      "source": [
        "net_rev = data['Revenue'].sum()\n",
        "net_rev_rounded = round(net_rev, 3)\n",
        "print(\"\\033[1mObservation:\\033[0m The net revenue is $\", net_rev_rounded, \" after the company charges restaurants 25% on orders having cost greater than $20 and 15% on orders greater than $5.\", sep='')"
      ],
      "metadata": {
        "colab": {
          "base_uri": "https://localhost:8080/"
        },
        "id": "7mYmeDUhPlY-",
        "outputId": "ca6bd64c-9b17-4c34-f9a5-198ff27be77e"
      },
      "execution_count": 551,
      "outputs": [
        {
          "output_type": "stream",
          "name": "stdout",
          "text": [
            "\u001b[1mObservation:\u001b[0m The net revenue is $6166.303 after the company charges restaurants 25% on orders having cost greater than $20 and 15% on orders greater than $5.\n"
          ]
        }
      ]
    },
    {
      "cell_type": "markdown",
      "source": [
        "#### **Question 15**"
      ],
      "metadata": {
        "id": "AbOZ99N3TJ61"
      }
    },
    {
      "cell_type": "code",
      "source": [
        "data['total_time'] = data['delivery_time'] + data['food_preparation_time']"
      ],
      "metadata": {
        "id": "mtYOdyXRQ_Zh"
      },
      "execution_count": 433,
      "outputs": []
    },
    {
      "cell_type": "code",
      "source": [
        "data[data['total_time']>60].shape[0]"
      ],
      "metadata": {
        "colab": {
          "base_uri": "https://localhost:8080/"
        },
        "id": "AJKcGRoBTrKH",
        "outputId": "4fecfaee-5aa5-43e8-bfb0-c05e263b753a"
      },
      "execution_count": 434,
      "outputs": [
        {
          "output_type": "execute_result",
          "data": {
            "text/plain": [
              "200"
            ]
          },
          "metadata": {},
          "execution_count": 434
        }
      ]
    },
    {
      "cell_type": "code",
      "source": [
        "total_time_percent = (data[data['total_time']>60].shape[0])/(data.shape[0])*100"
      ],
      "metadata": {
        "id": "XXoSoP0aTdTd"
      },
      "execution_count": 436,
      "outputs": []
    },
    {
      "cell_type": "code",
      "source": [
        "print(\"\\033[1mObservation:\\033[0m The percentage of orders taking more than 60 minutes to get delivered from the time the order is placed is \", round(total_time_percent, 2), \"%.\", sep='')"
      ],
      "metadata": {
        "colab": {
          "base_uri": "https://localhost:8080/"
        },
        "id": "hMLkMGx5UOmb",
        "outputId": "33453051-f2a9-4806-9ba6-e8584e89effb"
      },
      "execution_count": 440,
      "outputs": [
        {
          "output_type": "stream",
          "name": "stdout",
          "text": [
            "\u001b[1mObservation:\u001b[0m The percentage of orders taking more than 60 minutes to get delivered from the time the order is placed is 10.54%.\n"
          ]
        }
      ]
    },
    {
      "cell_type": "markdown",
      "source": [
        "#### **Question 16**"
      ],
      "metadata": {
        "id": "5eL91qJjU3ey"
      }
    },
    {
      "cell_type": "code",
      "source": [
        "delivery_time_weekend = data[data['day_of_the_week']=='Weekday']['delivery_time'].mean()\n",
        "delivery_time_weekday = data[data['day_of_the_week']=='Weekend']['delivery_time'].mean()\n",
        "\n",
        "print(delivery_time_weekend)\n",
        "print(delivery_time_weekday)\n",
        "\n",
        "delivery_time_diff = delivery_time_weekend - delivery_time_weekday\n",
        "print(delivery_time_diff)"
      ],
      "metadata": {
        "colab": {
          "base_uri": "https://localhost:8080/"
        },
        "id": "akPOURwkU5ad",
        "outputId": "5489fd0c-c2a3-4eaf-a546-ae23fe986144"
      },
      "execution_count": 457,
      "outputs": [
        {
          "output_type": "stream",
          "name": "stdout",
          "text": [
            "28.340036563071298\n",
            "22.4700222057735\n",
            "5.870014357297798\n"
          ]
        }
      ]
    },
    {
      "cell_type": "markdown",
      "source": [
        "**Observation:** The delivery time of the orders on weekdays (approx. 22.47 minutes) is on average 5.87 minutes faster than on weekends (approx. 28.34 minutes), which can be explained by the fact that more people order food on the weekends and so there will be congestions and delays."
      ],
      "metadata": {
        "id": "ajUohQ4DX5th"
      }
    },
    {
      "cell_type": "markdown",
      "source": [
        "### **Question 17**"
      ],
      "metadata": {
        "id": "iSAQUcDuYJGP"
      }
    },
    {
      "cell_type": "markdown",
      "source": [
        "**Conclusion:** Based on the analysis above, one can safely say that people mostly order food on the weekends compared to weekdays as more than 70% of orders are from the former; at the same time, it generally takes several minutes longer to get food on the weekend. In terms of cuisine popularity, American, Japanese and Italian are ranked at the top 3, whereas Vietnamese, Spanish and Korean food are rarely ordered at all. Most people also order from these restaurants, namely Shake Shack, Meatball Shop and the Blue Ribbon brands (both sushi and fried chicken). Additionally, restaurants that have a higher rating tend to have lower food preparation and delivery time, albeit having on average higher costs for the food."
      ],
      "metadata": {
        "id": "8nTrZKqyYMAt"
      }
    },
    {
      "cell_type": "markdown",
      "source": [
        "**Recommendation:** If one looks to gain more profits for their business, they should open American, Japanese or Italian restaurants as they are the most popular cuisine in the area. One should seek to expand their restaurants or make them more efficient (such as having more workers serve the food) for the weekends so that they could receive more revenue from those busy days. Similarly, one should strive to have the least amount of minutes spent preparing and delivering the food so that the restaurant could obtain better ratings and thus, more people coming in, as shown from the previous graphs."
      ],
      "metadata": {
        "id": "fdEXHXqhoYFh"
      }
    }
  ]
}